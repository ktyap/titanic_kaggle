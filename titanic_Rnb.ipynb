{
 "cells": [
  {
   "cell_type": "code",
   "execution_count": 1,
   "metadata": {},
   "outputs": [
    {
     "name": "stderr",
     "output_type": "stream",
     "text": [
      "Warning message:\n",
      "\"package 'tidyverse' was built under R version 3.6.3\"-- Attaching packages --------------------------------------- tidyverse 1.3.0 --\n",
      "v ggplot2 3.2.1     v purrr   0.3.3\n",
      "v tibble  2.1.3     v dplyr   0.8.3\n",
      "v tidyr   1.0.0     v stringr 1.4.0\n",
      "v readr   1.3.1     v forcats 0.4.0\n",
      "Warning message:\n",
      "\"package 'ggplot2' was built under R version 3.6.2\"Warning message:\n",
      "\"package 'tibble' was built under R version 3.6.2\"Warning message:\n",
      "\"package 'tidyr' was built under R version 3.6.2\"Warning message:\n",
      "\"package 'readr' was built under R version 3.6.2\"Warning message:\n",
      "\"package 'purrr' was built under R version 3.6.2\"Warning message:\n",
      "\"package 'dplyr' was built under R version 3.6.2\"Warning message:\n",
      "\"package 'stringr' was built under R version 3.6.2\"Warning message:\n",
      "\"package 'forcats' was built under R version 3.6.2\"-- Conflicts ------------------------------------------ tidyverse_conflicts() --\n",
      "x dplyr::filter() masks stats::filter()\n",
      "x dplyr::lag()    masks stats::lag()\n",
      "Warning message:\n",
      "\"package 'caret' was built under R version 3.6.3\"Loading required package: lattice\n",
      "\n",
      "Attaching package: 'caret'\n",
      "\n",
      "The following object is masked from 'package:purrr':\n",
      "\n",
      "    lift\n",
      "\n"
     ]
    }
   ],
   "source": [
    "library(tidyverse)\n",
    "library(caret)\n",
    "library(rpart)"
   ]
  },
  {
   "cell_type": "code",
   "execution_count": 2,
   "metadata": {},
   "outputs": [
    {
     "name": "stderr",
     "output_type": "stream",
     "text": [
      "Parsed with column specification:\n",
      "cols(\n",
      "  PassengerId = col_double(),\n",
      "  Survived = col_double(),\n",
      "  Pclass = col_double(),\n",
      "  Name = col_character(),\n",
      "  Sex = col_character(),\n",
      "  Age = col_double(),\n",
      "  SibSp = col_double(),\n",
      "  Parch = col_double(),\n",
      "  Ticket = col_character(),\n",
      "  Fare = col_double(),\n",
      "  Cabin = col_character(),\n",
      "  Embarked = col_character()\n",
      ")\n",
      "Parsed with column specification:\n",
      "cols(\n",
      "  PassengerId = col_double(),\n",
      "  Pclass = col_double(),\n",
      "  Name = col_character(),\n",
      "  Sex = col_character(),\n",
      "  Age = col_double(),\n",
      "  SibSp = col_double(),\n",
      "  Parch = col_double(),\n",
      "  Ticket = col_character(),\n",
      "  Fare = col_double(),\n",
      "  Cabin = col_character(),\n",
      "  Embarked = col_character()\n",
      ")\n"
     ]
    }
   ],
   "source": [
    "titanic_train <- read_csv(\"./data/train.csv\")\n",
    "titanic_test <- read_csv(\"./data/test.csv\")"
   ]
  },
  {
   "cell_type": "code",
   "execution_count": 3,
   "metadata": {},
   "outputs": [
    {
     "name": "stdout",
     "output_type": "stream",
     "text": [
      "Classes 'spec_tbl_df', 'tbl_df', 'tbl' and 'data.frame':\t891 obs. of  12 variables:\n",
      " $ PassengerId: num  1 2 3 4 5 6 7 8 9 10 ...\n",
      " $ Survived   : num  0 1 1 1 0 0 0 0 1 1 ...\n",
      " $ Pclass     : num  3 1 3 1 3 3 1 3 3 2 ...\n",
      " $ Name       : chr  \"Braund, Mr. Owen Harris\" \"Cumings, Mrs. John Bradley (Florence Briggs Thayer)\" \"Heikkinen, Miss. Laina\" \"Futrelle, Mrs. Jacques Heath (Lily May Peel)\" ...\n",
      " $ Sex        : chr  \"male\" \"female\" \"female\" \"female\" ...\n",
      " $ Age        : num  22 38 26 35 35 NA 54 2 27 14 ...\n",
      " $ SibSp      : num  1 1 0 1 0 0 0 3 0 1 ...\n",
      " $ Parch      : num  0 0 0 0 0 0 0 1 2 0 ...\n",
      " $ Ticket     : chr  \"A/5 21171\" \"PC 17599\" \"STON/O2. 3101282\" \"113803\" ...\n",
      " $ Fare       : num  7.25 71.28 7.92 53.1 8.05 ...\n",
      " $ Cabin      : chr  NA \"C85\" NA \"C123\" ...\n",
      " $ Embarked   : chr  \"S\" \"C\" \"S\" \"S\" ...\n",
      " - attr(*, \"spec\")=\n",
      "  .. cols(\n",
      "  ..   PassengerId = col_double(),\n",
      "  ..   Survived = col_double(),\n",
      "  ..   Pclass = col_double(),\n",
      "  ..   Name = col_character(),\n",
      "  ..   Sex = col_character(),\n",
      "  ..   Age = col_double(),\n",
      "  ..   SibSp = col_double(),\n",
      "  ..   Parch = col_double(),\n",
      "  ..   Ticket = col_character(),\n",
      "  ..   Fare = col_double(),\n",
      "  ..   Cabin = col_character(),\n",
      "  ..   Embarked = col_character()\n",
      "  .. )\n"
     ]
    }
   ],
   "source": [
    "str(titanic_train)"
   ]
  },
  {
   "cell_type": "code",
   "execution_count": 4,
   "metadata": {},
   "outputs": [
    {
     "name": "stdout",
     "output_type": "stream",
     "text": [
      "Classes 'spec_tbl_df', 'tbl_df', 'tbl' and 'data.frame':\t418 obs. of  11 variables:\n",
      " $ PassengerId: num  892 893 894 895 896 897 898 899 900 901 ...\n",
      " $ Pclass     : num  3 3 2 3 3 3 3 2 3 3 ...\n",
      " $ Name       : chr  \"Kelly, Mr. James\" \"Wilkes, Mrs. James (Ellen Needs)\" \"Myles, Mr. Thomas Francis\" \"Wirz, Mr. Albert\" ...\n",
      " $ Sex        : chr  \"male\" \"female\" \"male\" \"male\" ...\n",
      " $ Age        : num  34.5 47 62 27 22 14 30 26 18 21 ...\n",
      " $ SibSp      : num  0 1 0 0 1 0 0 1 0 2 ...\n",
      " $ Parch      : num  0 0 0 0 1 0 0 1 0 0 ...\n",
      " $ Ticket     : chr  \"330911\" \"363272\" \"240276\" \"315154\" ...\n",
      " $ Fare       : num  7.83 7 9.69 8.66 12.29 ...\n",
      " $ Cabin      : chr  NA NA NA NA ...\n",
      " $ Embarked   : chr  \"Q\" \"S\" \"Q\" \"S\" ...\n",
      " - attr(*, \"spec\")=\n",
      "  .. cols(\n",
      "  ..   PassengerId = col_double(),\n",
      "  ..   Pclass = col_double(),\n",
      "  ..   Name = col_character(),\n",
      "  ..   Sex = col_character(),\n",
      "  ..   Age = col_double(),\n",
      "  ..   SibSp = col_double(),\n",
      "  ..   Parch = col_double(),\n",
      "  ..   Ticket = col_character(),\n",
      "  ..   Fare = col_double(),\n",
      "  ..   Cabin = col_character(),\n",
      "  ..   Embarked = col_character()\n",
      "  .. )\n"
     ]
    }
   ],
   "source": [
    "str(titanic_test)"
   ]
  },
  {
   "cell_type": "markdown",
   "metadata": {},
   "source": [
    "### Check for any NAs"
   ]
  },
  {
   "cell_type": "code",
   "execution_count": 5,
   "metadata": {},
   "outputs": [
    {
     "data": {
      "text/html": [
       "<dl class=dl-horizontal>\n",
       "\t<dt>PassengerId</dt>\n",
       "\t\t<dd>FALSE</dd>\n",
       "\t<dt>Survived</dt>\n",
       "\t\t<dd>FALSE</dd>\n",
       "\t<dt>Pclass</dt>\n",
       "\t\t<dd>FALSE</dd>\n",
       "\t<dt>Name</dt>\n",
       "\t\t<dd>FALSE</dd>\n",
       "\t<dt>Sex</dt>\n",
       "\t\t<dd>FALSE</dd>\n",
       "\t<dt>Age</dt>\n",
       "\t\t<dd>TRUE</dd>\n",
       "\t<dt>SibSp</dt>\n",
       "\t\t<dd>FALSE</dd>\n",
       "\t<dt>Parch</dt>\n",
       "\t\t<dd>FALSE</dd>\n",
       "\t<dt>Ticket</dt>\n",
       "\t\t<dd>FALSE</dd>\n",
       "\t<dt>Fare</dt>\n",
       "\t\t<dd>FALSE</dd>\n",
       "\t<dt>Cabin</dt>\n",
       "\t\t<dd>TRUE</dd>\n",
       "\t<dt>Embarked</dt>\n",
       "\t\t<dd>TRUE</dd>\n",
       "</dl>\n"
      ],
      "text/latex": [
       "\\begin{description*}\n",
       "\\item[PassengerId] FALSE\n",
       "\\item[Survived] FALSE\n",
       "\\item[Pclass] FALSE\n",
       "\\item[Name] FALSE\n",
       "\\item[Sex] FALSE\n",
       "\\item[Age] TRUE\n",
       "\\item[SibSp] FALSE\n",
       "\\item[Parch] FALSE\n",
       "\\item[Ticket] FALSE\n",
       "\\item[Fare] FALSE\n",
       "\\item[Cabin] TRUE\n",
       "\\item[Embarked] TRUE\n",
       "\\end{description*}\n"
      ],
      "text/markdown": [
       "PassengerId\n",
       ":   FALSESurvived\n",
       ":   FALSEPclass\n",
       ":   FALSEName\n",
       ":   FALSESex\n",
       ":   FALSEAge\n",
       ":   TRUESibSp\n",
       ":   FALSEParch\n",
       ":   FALSETicket\n",
       ":   FALSEFare\n",
       ":   FALSECabin\n",
       ":   TRUEEmbarked\n",
       ":   TRUE\n",
       "\n"
      ],
      "text/plain": [
       "PassengerId    Survived      Pclass        Name         Sex         Age \n",
       "      FALSE       FALSE       FALSE       FALSE       FALSE        TRUE \n",
       "      SibSp       Parch      Ticket        Fare       Cabin    Embarked \n",
       "      FALSE       FALSE       FALSE       FALSE        TRUE        TRUE "
      ]
     },
     "metadata": {},
     "output_type": "display_data"
    }
   ],
   "source": [
    "#which of the columns have NA\n",
    "na_col_train <- apply(titanic_train, 2, function(x){\n",
    "            any(is.na(x))\n",
    "})\n",
    "na_col_train"
   ]
  },
  {
   "cell_type": "code",
   "execution_count": 6,
   "metadata": {},
   "outputs": [],
   "source": [
    "#indices of NA entities\n",
    "na_matrix_train <- apply(titanic_train, 2, function(x){\n",
    "            is.na(x)\n",
    "})\n",
    "na_tib_train <- na_matrix_train %>% as_tibble()\n",
    "na_Age_ind_train <- which(na_tib_train$Age == TRUE)\n",
    "na_Cabin_ind_train <- which(na_tib_train$Cabin == TRUE)\n",
    "na_Embarked_ind_train <- which (na_tib_train$Embarked == TRUE)"
   ]
  },
  {
   "cell_type": "code",
   "execution_count": 7,
   "metadata": {},
   "outputs": [
    {
     "data": {
      "text/html": [
       "177"
      ],
      "text/latex": [
       "177"
      ],
      "text/markdown": [
       "177"
      ],
      "text/plain": [
       "[1] 177"
      ]
     },
     "metadata": {},
     "output_type": "display_data"
    }
   ],
   "source": [
    "length(na_Age_ind_train)"
   ]
  },
  {
   "cell_type": "code",
   "execution_count": 8,
   "metadata": {},
   "outputs": [
    {
     "data": {
      "text/html": [
       "687"
      ],
      "text/latex": [
       "687"
      ],
      "text/markdown": [
       "687"
      ],
      "text/plain": [
       "[1] 687"
      ]
     },
     "metadata": {},
     "output_type": "display_data"
    }
   ],
   "source": [
    "length(na_Cabin_ind_train)"
   ]
  },
  {
   "cell_type": "code",
   "execution_count": 9,
   "metadata": {},
   "outputs": [
    {
     "data": {
      "text/html": [
       "2"
      ],
      "text/latex": [
       "2"
      ],
      "text/markdown": [
       "2"
      ],
      "text/plain": [
       "[1] 2"
      ]
     },
     "metadata": {},
     "output_type": "display_data"
    }
   ],
   "source": [
    "length(na_Embarked_ind_train)"
   ]
  },
  {
   "cell_type": "code",
   "execution_count": 10,
   "metadata": {},
   "outputs": [
    {
     "data": {
      "text/html": [
       "<dl class=dl-horizontal>\n",
       "\t<dt>PassengerId</dt>\n",
       "\t\t<dd>FALSE</dd>\n",
       "\t<dt>Pclass</dt>\n",
       "\t\t<dd>FALSE</dd>\n",
       "\t<dt>Name</dt>\n",
       "\t\t<dd>FALSE</dd>\n",
       "\t<dt>Sex</dt>\n",
       "\t\t<dd>FALSE</dd>\n",
       "\t<dt>Age</dt>\n",
       "\t\t<dd>TRUE</dd>\n",
       "\t<dt>SibSp</dt>\n",
       "\t\t<dd>FALSE</dd>\n",
       "\t<dt>Parch</dt>\n",
       "\t\t<dd>FALSE</dd>\n",
       "\t<dt>Ticket</dt>\n",
       "\t\t<dd>FALSE</dd>\n",
       "\t<dt>Fare</dt>\n",
       "\t\t<dd>TRUE</dd>\n",
       "\t<dt>Cabin</dt>\n",
       "\t\t<dd>TRUE</dd>\n",
       "\t<dt>Embarked</dt>\n",
       "\t\t<dd>FALSE</dd>\n",
       "</dl>\n"
      ],
      "text/latex": [
       "\\begin{description*}\n",
       "\\item[PassengerId] FALSE\n",
       "\\item[Pclass] FALSE\n",
       "\\item[Name] FALSE\n",
       "\\item[Sex] FALSE\n",
       "\\item[Age] TRUE\n",
       "\\item[SibSp] FALSE\n",
       "\\item[Parch] FALSE\n",
       "\\item[Ticket] FALSE\n",
       "\\item[Fare] TRUE\n",
       "\\item[Cabin] TRUE\n",
       "\\item[Embarked] FALSE\n",
       "\\end{description*}\n"
      ],
      "text/markdown": [
       "PassengerId\n",
       ":   FALSEPclass\n",
       ":   FALSEName\n",
       ":   FALSESex\n",
       ":   FALSEAge\n",
       ":   TRUESibSp\n",
       ":   FALSEParch\n",
       ":   FALSETicket\n",
       ":   FALSEFare\n",
       ":   TRUECabin\n",
       ":   TRUEEmbarked\n",
       ":   FALSE\n",
       "\n"
      ],
      "text/plain": [
       "PassengerId      Pclass        Name         Sex         Age       SibSp \n",
       "      FALSE       FALSE       FALSE       FALSE        TRUE       FALSE \n",
       "      Parch      Ticket        Fare       Cabin    Embarked \n",
       "      FALSE       FALSE        TRUE        TRUE       FALSE "
      ]
     },
     "metadata": {},
     "output_type": "display_data"
    }
   ],
   "source": [
    "#which of the columns have NA\n",
    "na_col_test <- apply(titanic_test, 2, function(x){\n",
    "            any(is.na(x))\n",
    "})\n",
    "na_col_test"
   ]
  },
  {
   "cell_type": "code",
   "execution_count": 11,
   "metadata": {},
   "outputs": [],
   "source": [
    "#indices of NA entities\n",
    "na_matrix_test <- apply(titanic_test, 2, function(x){\n",
    "            is.na(x)\n",
    "})\n",
    "na_tib_test <- na_matrix_test %>% as_tibble()\n",
    "na_Age_ind_test <- which(na_tib_test$Age == TRUE)\n",
    "na_Fare_ind_test <- which(na_tib_test$Fare == TRUE)\n",
    "na_Cabin_ind_test <- which(na_tib_test$Cabin == TRUE)"
   ]
  },
  {
   "cell_type": "code",
   "execution_count": 12,
   "metadata": {},
   "outputs": [
    {
     "data": {
      "text/html": [
       "86"
      ],
      "text/latex": [
       "86"
      ],
      "text/markdown": [
       "86"
      ],
      "text/plain": [
       "[1] 86"
      ]
     },
     "metadata": {},
     "output_type": "display_data"
    }
   ],
   "source": [
    "length(na_Age_ind_test)"
   ]
  },
  {
   "cell_type": "code",
   "execution_count": 13,
   "metadata": {},
   "outputs": [
    {
     "data": {
      "text/html": [
       "1"
      ],
      "text/latex": [
       "1"
      ],
      "text/markdown": [
       "1"
      ],
      "text/plain": [
       "[1] 1"
      ]
     },
     "metadata": {},
     "output_type": "display_data"
    }
   ],
   "source": [
    "length(na_Fare_ind_test)"
   ]
  },
  {
   "cell_type": "code",
   "execution_count": 14,
   "metadata": {},
   "outputs": [
    {
     "data": {
      "text/html": [
       "327"
      ],
      "text/latex": [
       "327"
      ],
      "text/markdown": [
       "327"
      ],
      "text/plain": [
       "[1] 327"
      ]
     },
     "metadata": {},
     "output_type": "display_data"
    }
   ],
   "source": [
    "length(na_Cabin_ind_test)"
   ]
  },
  {
   "cell_type": "markdown",
   "metadata": {},
   "source": [
    "### Handle missing values"
   ]
  },
  {
   "cell_type": "code",
   "execution_count": 15,
   "metadata": {},
   "outputs": [],
   "source": [
    "titanic_train$Age[na_Age_ind_train] <- titanic_train %>% filter(!is.na(Age)) %>%\n",
    "    pull(Age) %>% median()"
   ]
  },
  {
   "cell_type": "code",
   "execution_count": 16,
   "metadata": {},
   "outputs": [
    {
     "data": {
      "text/html": [
       "0"
      ],
      "text/latex": [
       "0"
      ],
      "text/markdown": [
       "0"
      ],
      "text/plain": [
       "[1] 0"
      ]
     },
     "metadata": {},
     "output_type": "display_data"
    }
   ],
   "source": [
    "sum(is.na(titanic_train$Age))"
   ]
  },
  {
   "cell_type": "code",
   "execution_count": 17,
   "metadata": {},
   "outputs": [
    {
     "data": {
      "text/html": [
       "<dl class=dl-horizontal>\n",
       "\t<dt>S</dt>\n",
       "\t\t<dd>644</dd>\n",
       "\t<dt>C</dt>\n",
       "\t\t<dd>168</dd>\n",
       "\t<dt>Q</dt>\n",
       "\t\t<dd>77</dd>\n",
       "\t<dt>NA's</dt>\n",
       "\t\t<dd>2</dd>\n",
       "</dl>\n"
      ],
      "text/latex": [
       "\\begin{description*}\n",
       "\\item[S] 644\n",
       "\\item[C] 168\n",
       "\\item[Q] 77\n",
       "\\item[NA's] 2\n",
       "\\end{description*}\n"
      ],
      "text/markdown": [
       "S\n",
       ":   644C\n",
       ":   168Q\n",
       ":   77NA's\n",
       ":   2\n",
       "\n"
      ],
      "text/plain": [
       "   S    C    Q NA's \n",
       " 644  168   77    2 "
      ]
     },
     "metadata": {},
     "output_type": "display_data"
    }
   ],
   "source": [
    "titanic_train %>% .$Embarked %>% as_factor() %>% summary()"
   ]
  },
  {
   "cell_type": "code",
   "execution_count": 18,
   "metadata": {},
   "outputs": [],
   "source": [
    "titanic_train$Embarked[na_Embarked_ind_train] <- \"S\" "
   ]
  },
  {
   "cell_type": "code",
   "execution_count": 19,
   "metadata": {},
   "outputs": [],
   "source": [
    "titanic_test$Age[na_Age_ind_test] <- titanic_test %>% filter(!is.na(Age)) %>%\n",
    "    pull(Age) %>% median()"
   ]
  },
  {
   "cell_type": "code",
   "execution_count": 20,
   "metadata": {},
   "outputs": [],
   "source": [
    "titanic_test$Fare[na_Fare_ind_test] <- titanic_test %>% filter(!is.na(Fare)) %>%\n",
    "    pull(Fare) %>% median()"
   ]
  },
  {
   "cell_type": "markdown",
   "metadata": {},
   "source": [
    "### Check how many percentages of females and males survived"
   ]
  },
  {
   "cell_type": "code",
   "execution_count": 21,
   "metadata": {},
   "outputs": [
    {
     "data": {
      "text/html": [
       "<table>\n",
       "<thead><tr><th scope=col>Sex</th><th scope=col>mean(Survived)</th></tr></thead>\n",
       "<tbody>\n",
       "\t<tr><td>female   </td><td>0.7420382</td></tr>\n",
       "\t<tr><td>male     </td><td>0.1889081</td></tr>\n",
       "</tbody>\n",
       "</table>\n"
      ],
      "text/latex": [
       "\\begin{tabular}{r|ll}\n",
       " Sex & mean(Survived)\\\\\n",
       "\\hline\n",
       "\t female    & 0.7420382\\\\\n",
       "\t male      & 0.1889081\\\\\n",
       "\\end{tabular}\n"
      ],
      "text/markdown": [
       "\n",
       "| Sex | mean(Survived) |\n",
       "|---|---|\n",
       "| female    | 0.7420382 |\n",
       "| male      | 0.1889081 |\n",
       "\n"
      ],
      "text/plain": [
       "  Sex    mean(Survived)\n",
       "1 female 0.7420382     \n",
       "2 male   0.1889081     "
      ]
     },
     "metadata": {},
     "output_type": "display_data"
    }
   ],
   "source": [
    "titanic_train %>% group_by(Sex) %>% summarize(mean(Survived))"
   ]
  },
  {
   "cell_type": "markdown",
   "metadata": {},
   "source": [
    "### Gender model"
   ]
  },
  {
   "cell_type": "code",
   "execution_count": 22,
   "metadata": {},
   "outputs": [],
   "source": [
    "y_hat_gender <- ifelse(titanic_test$Sex == \"female\", 1, 0)\n",
    "pred_gender <- tibble(PassengerId = titanic_test$PassengerId,\n",
    "                     Survived = y_hat_gender)\n",
    "write_csv(pred_gender, \"./csv_files/pred_gender.csv\")"
   ]
  },
  {
   "cell_type": "markdown",
   "metadata": {},
   "source": [
    "Gender model would score 0.76555"
   ]
  },
  {
   "cell_type": "markdown",
   "metadata": {},
   "source": [
    "### Factorize train and test sets"
   ]
  },
  {
   "cell_type": "code",
   "execution_count": 23,
   "metadata": {},
   "outputs": [],
   "source": [
    "titanic_train_factorized <- titanic_train %>% mutate(Survived = factor(Survived),\n",
    "                                               Pclass = factor(Pclass),\n",
    "                                               Sex = factor(Sex),\n",
    "                                               Embarked = factor(Embarked)) %>%\n",
    "                            select(Survived, Sex, Pclass, Age, SibSp, Parch, Fare, Embarked)"
   ]
  },
  {
   "cell_type": "code",
   "execution_count": 24,
   "metadata": {},
   "outputs": [],
   "source": [
    "titanic_test_factorized <- titanic_test %>% mutate(Pclass = factor(Pclass),\n",
    "                                               Sex = factor(Sex),\n",
    "                                               Embarked = factor(Embarked)) %>%\n",
    "                            select(Sex, Pclass, Age, SibSp, Parch, Fare, Embarked)"
   ]
  },
  {
   "cell_type": "markdown",
   "metadata": {},
   "source": [
    "### Feature engineering and transformation"
   ]
  },
  {
   "cell_type": "code",
   "execution_count": 25,
   "metadata": {},
   "outputs": [],
   "source": [
    "# adding a new feature that is family size\n",
    "titanic_train_factorized <- titanic_train_factorized %>% mutate(FamilySize = SibSp + Parch)\n",
    "titanic_test_factorized <- titanic_test_factorized %>% mutate(FamilySize = SibSp + Parch)"
   ]
  },
  {
   "cell_type": "markdown",
   "metadata": {},
   "source": [
    "#### Including passengers' titles could be useful"
   ]
  },
  {
   "cell_type": "code",
   "execution_count": 26,
   "metadata": {},
   "outputs": [
    {
     "data": {
      "text/html": [
       "<ol class=list-inline>\n",
       "\t<li>'Capt.'</li>\n",
       "\t<li>'Col.'</li>\n",
       "\t<li>'Don.'</li>\n",
       "\t<li>'Dr.'</li>\n",
       "\t<li>'Jonkheer.'</li>\n",
       "\t<li>'Lady.'</li>\n",
       "\t<li>'Major.'</li>\n",
       "\t<li>'Master.'</li>\n",
       "\t<li>'Miss.'</li>\n",
       "\t<li>'Mlle.'</li>\n",
       "\t<li>'Mme.'</li>\n",
       "\t<li>'Mr.'</li>\n",
       "\t<li>'Mrs.'</li>\n",
       "\t<li>'Ms.'</li>\n",
       "\t<li>'Rev.'</li>\n",
       "\t<li>'Sir.'</li>\n",
       "\t<li>'the Countess.'</li>\n",
       "</ol>\n"
      ],
      "text/latex": [
       "\\begin{enumerate*}\n",
       "\\item 'Capt.'\n",
       "\\item 'Col.'\n",
       "\\item 'Don.'\n",
       "\\item 'Dr.'\n",
       "\\item 'Jonkheer.'\n",
       "\\item 'Lady.'\n",
       "\\item 'Major.'\n",
       "\\item 'Master.'\n",
       "\\item 'Miss.'\n",
       "\\item 'Mlle.'\n",
       "\\item 'Mme.'\n",
       "\\item 'Mr.'\n",
       "\\item 'Mrs.'\n",
       "\\item 'Ms.'\n",
       "\\item 'Rev.'\n",
       "\\item 'Sir.'\n",
       "\\item 'the Countess.'\n",
       "\\end{enumerate*}\n"
      ],
      "text/markdown": [
       "1. 'Capt.'\n",
       "2. 'Col.'\n",
       "3. 'Don.'\n",
       "4. 'Dr.'\n",
       "5. 'Jonkheer.'\n",
       "6. 'Lady.'\n",
       "7. 'Major.'\n",
       "8. 'Master.'\n",
       "9. 'Miss.'\n",
       "10. 'Mlle.'\n",
       "11. 'Mme.'\n",
       "12. 'Mr.'\n",
       "13. 'Mrs.'\n",
       "14. 'Ms.'\n",
       "15. 'Rev.'\n",
       "16. 'Sir.'\n",
       "17. 'the Countess.'\n",
       "\n",
       "\n"
      ],
      "text/plain": [
       " [1] \"Capt.\"         \"Col.\"          \"Don.\"          \"Dr.\"          \n",
       " [5] \"Jonkheer.\"     \"Lady.\"         \"Major.\"        \"Master.\"      \n",
       " [9] \"Miss.\"         \"Mlle.\"         \"Mme.\"          \"Mr.\"          \n",
       "[13] \"Mrs.\"          \"Ms.\"           \"Rev.\"          \"Sir.\"         \n",
       "[17] \"the Countess.\""
      ]
     },
     "metadata": {},
     "output_type": "display_data"
    }
   ],
   "source": [
    "# Using regex to extract passengers' titles\n",
    "pattern <- \"^.+,\\\\s?(\\\\w+\\\\s?\\\\w*\\\\.)\"\n",
    "titles <- str_match(titanic_train$Name, pattern)[,2]\n",
    "levels(factor(titles))"
   ]
  },
  {
   "cell_type": "code",
   "execution_count": 27,
   "metadata": {},
   "outputs": [],
   "source": [
    "titanic_train_factorized <- titanic_train_factorized %>% mutate(Title = titles)"
   ]
  },
  {
   "cell_type": "code",
   "execution_count": 28,
   "metadata": {},
   "outputs": [
    {
     "data": {
      "text/html": [
       "<ol class=list-inline>\n",
       "\t<li>'Col.'</li>\n",
       "\t<li>'Dona.'</li>\n",
       "\t<li>'Dr.'</li>\n",
       "\t<li>'Master.'</li>\n",
       "\t<li>'Miss.'</li>\n",
       "\t<li>'Mr.'</li>\n",
       "\t<li>'Mrs.'</li>\n",
       "\t<li>'Ms.'</li>\n",
       "\t<li>'Rev.'</li>\n",
       "</ol>\n"
      ],
      "text/latex": [
       "\\begin{enumerate*}\n",
       "\\item 'Col.'\n",
       "\\item 'Dona.'\n",
       "\\item 'Dr.'\n",
       "\\item 'Master.'\n",
       "\\item 'Miss.'\n",
       "\\item 'Mr.'\n",
       "\\item 'Mrs.'\n",
       "\\item 'Ms.'\n",
       "\\item 'Rev.'\n",
       "\\end{enumerate*}\n"
      ],
      "text/markdown": [
       "1. 'Col.'\n",
       "2. 'Dona.'\n",
       "3. 'Dr.'\n",
       "4. 'Master.'\n",
       "5. 'Miss.'\n",
       "6. 'Mr.'\n",
       "7. 'Mrs.'\n",
       "8. 'Ms.'\n",
       "9. 'Rev.'\n",
       "\n",
       "\n"
      ],
      "text/plain": [
       "[1] \"Col.\"    \"Dona.\"   \"Dr.\"     \"Master.\" \"Miss.\"   \"Mr.\"     \"Mrs.\"   \n",
       "[8] \"Ms.\"     \"Rev.\"   "
      ]
     },
     "metadata": {},
     "output_type": "display_data"
    }
   ],
   "source": [
    "# Similarly for the test set\n",
    "titles <- str_match(titanic_test$Name, pattern)[,2]\n",
    "levels(factor(titles))\n",
    "titanic_test_factorized <- titanic_test_factorized %>% mutate(Title = titles)"
   ]
  },
  {
   "cell_type": "code",
   "execution_count": 29,
   "metadata": {},
   "outputs": [
    {
     "data": {
      "text/html": [
       "FALSE"
      ],
      "text/latex": [
       "FALSE"
      ],
      "text/markdown": [
       "FALSE"
      ],
      "text/plain": [
       "[1] FALSE"
      ]
     },
     "metadata": {},
     "output_type": "display_data"
    }
   ],
   "source": [
    "# Check that all titles in the test set are also in the train set\n",
    "all(titanic_test_factorized$Title %in% titanic_train_factorized$Title)"
   ]
  },
  {
   "cell_type": "code",
   "execution_count": 30,
   "metadata": {},
   "outputs": [
    {
     "data": {
      "text/html": [
       "'Dona.'"
      ],
      "text/latex": [
       "'Dona.'"
      ],
      "text/markdown": [
       "'Dona.'"
      ],
      "text/plain": [
       "[1] \"Dona.\""
      ]
     },
     "metadata": {},
     "output_type": "display_data"
    }
   ],
   "source": [
    "# Check title not in train set\n",
    "titanic_test_factorized$Title[!(titanic_test_factorized$Title %in% titanic_train_factorized$Title)]"
   ]
  },
  {
   "cell_type": "code",
   "execution_count": 31,
   "metadata": {},
   "outputs": [
    {
     "data": {
      "text/html": [
       "'Oliva y Ocana, Dona. Fermina'"
      ],
      "text/latex": [
       "'Oliva y Ocana, Dona. Fermina'"
      ],
      "text/markdown": [
       "'Oliva y Ocana, Dona. Fermina'"
      ],
      "text/plain": [
       "[1] \"Oliva y Ocana, Dona. Fermina\""
      ]
     },
     "metadata": {},
     "output_type": "display_data"
    }
   ],
   "source": [
    "# Check full name of one \"Dona.\"\n",
    "titanic_test$Name[str_detect(titanic_test$Name, \"Dona\\\\.\")]"
   ]
  },
  {
   "cell_type": "code",
   "execution_count": 32,
   "metadata": {},
   "outputs": [
    {
     "data": {
      "text/html": [
       "TRUE"
      ],
      "text/latex": [
       "TRUE"
      ],
      "text/markdown": [
       "TRUE"
      ],
      "text/plain": [
       "[1] TRUE"
      ]
     },
     "metadata": {},
     "output_type": "display_data"
    }
   ],
   "source": [
    "# Since it was only one passenger, we may be able to assume that \"Dona.\" is similar or related to \"Don.\"\n",
    "titanic_test_factorized$Title[str_detect(titanic_test_factorized$Title, \"Dona\\\\.\")] <- \"Don.\"\n",
    "# Re-check all titles in the test set are also in the train set\n",
    "all(titanic_test_factorized$Title %in% titanic_train_factorized$Title)"
   ]
  },
  {
   "cell_type": "code",
   "execution_count": 33,
   "metadata": {},
   "outputs": [],
   "source": [
    "titanic_train_factorized <- titanic_train_factorized %>% mutate(Title = factor(Title))\n",
    "titanic_test_factorized <- titanic_test_factorized %>% mutate(Title = factor(Title))"
   ]
  },
  {
   "cell_type": "code",
   "execution_count": 34,
   "metadata": {},
   "outputs": [
    {
     "data": {
      "text/html": [
       "<table>\n",
       "<thead><tr><th scope=col>Title</th><th scope=col>n</th></tr></thead>\n",
       "<tbody>\n",
       "\t<tr><td>Capt.        </td><td>  1          </td></tr>\n",
       "\t<tr><td>Col.         </td><td>  2          </td></tr>\n",
       "\t<tr><td>Don.         </td><td>  1          </td></tr>\n",
       "\t<tr><td>Dr.          </td><td>  7          </td></tr>\n",
       "\t<tr><td>Jonkheer.    </td><td>  1          </td></tr>\n",
       "\t<tr><td>Lady.        </td><td>  1          </td></tr>\n",
       "\t<tr><td>Major.       </td><td>  2          </td></tr>\n",
       "\t<tr><td>Master.      </td><td> 40          </td></tr>\n",
       "\t<tr><td>Miss.        </td><td>182          </td></tr>\n",
       "\t<tr><td>Mlle.        </td><td>  2          </td></tr>\n",
       "\t<tr><td>Mme.         </td><td>  1          </td></tr>\n",
       "\t<tr><td>Mr.          </td><td>517          </td></tr>\n",
       "\t<tr><td>Mrs.         </td><td>125          </td></tr>\n",
       "\t<tr><td>Ms.          </td><td>  1          </td></tr>\n",
       "\t<tr><td>Rev.         </td><td>  6          </td></tr>\n",
       "\t<tr><td>Sir.         </td><td>  1          </td></tr>\n",
       "\t<tr><td>the Countess.</td><td>  1          </td></tr>\n",
       "</tbody>\n",
       "</table>\n"
      ],
      "text/latex": [
       "\\begin{tabular}{r|ll}\n",
       " Title & n\\\\\n",
       "\\hline\n",
       "\t Capt.         &   1          \\\\\n",
       "\t Col.          &   2          \\\\\n",
       "\t Don.          &   1          \\\\\n",
       "\t Dr.           &   7          \\\\\n",
       "\t Jonkheer.     &   1          \\\\\n",
       "\t Lady.         &   1          \\\\\n",
       "\t Major.        &   2          \\\\\n",
       "\t Master.       &  40          \\\\\n",
       "\t Miss.         & 182          \\\\\n",
       "\t Mlle.         &   2          \\\\\n",
       "\t Mme.          &   1          \\\\\n",
       "\t Mr.           & 517          \\\\\n",
       "\t Mrs.          & 125          \\\\\n",
       "\t Ms.           &   1          \\\\\n",
       "\t Rev.          &   6          \\\\\n",
       "\t Sir.          &   1          \\\\\n",
       "\t the Countess. &   1          \\\\\n",
       "\\end{tabular}\n"
      ],
      "text/markdown": [
       "\n",
       "| Title | n |\n",
       "|---|---|\n",
       "| Capt.         |   1           |\n",
       "| Col.          |   2           |\n",
       "| Don.          |   1           |\n",
       "| Dr.           |   7           |\n",
       "| Jonkheer.     |   1           |\n",
       "| Lady.         |   1           |\n",
       "| Major.        |   2           |\n",
       "| Master.       |  40           |\n",
       "| Miss.         | 182           |\n",
       "| Mlle.         |   2           |\n",
       "| Mme.          |   1           |\n",
       "| Mr.           | 517           |\n",
       "| Mrs.          | 125           |\n",
       "| Ms.           |   1           |\n",
       "| Rev.          |   6           |\n",
       "| Sir.          |   1           |\n",
       "| the Countess. |   1           |\n",
       "\n"
      ],
      "text/plain": [
       "   Title         n  \n",
       "1  Capt.           1\n",
       "2  Col.            2\n",
       "3  Don.            1\n",
       "4  Dr.             7\n",
       "5  Jonkheer.       1\n",
       "6  Lady.           1\n",
       "7  Major.          2\n",
       "8  Master.        40\n",
       "9  Miss.         182\n",
       "10 Mlle.           2\n",
       "11 Mme.            1\n",
       "12 Mr.           517\n",
       "13 Mrs.          125\n",
       "14 Ms.             1\n",
       "15 Rev.            6\n",
       "16 Sir.            1\n",
       "17 the Countess.   1"
      ]
     },
     "metadata": {},
     "output_type": "display_data"
    }
   ],
   "source": [
    "titanic_train_factorized %>% group_by(Title) %>% summarize(n = n())"
   ]
  },
  {
   "cell_type": "code",
   "execution_count": 35,
   "metadata": {},
   "outputs": [
    {
     "data": {
      "text/html": [
       "<table>\n",
       "<thead><tr><th scope=col>Title</th><th scope=col>n</th></tr></thead>\n",
       "<tbody>\n",
       "\t<tr><td>Col.   </td><td>  2    </td></tr>\n",
       "\t<tr><td>Don.   </td><td>  1    </td></tr>\n",
       "\t<tr><td>Dr.    </td><td>  1    </td></tr>\n",
       "\t<tr><td>Master.</td><td> 21    </td></tr>\n",
       "\t<tr><td>Miss.  </td><td> 78    </td></tr>\n",
       "\t<tr><td>Mr.    </td><td>240    </td></tr>\n",
       "\t<tr><td>Mrs.   </td><td> 72    </td></tr>\n",
       "\t<tr><td>Ms.    </td><td>  1    </td></tr>\n",
       "\t<tr><td>Rev.   </td><td>  2    </td></tr>\n",
       "</tbody>\n",
       "</table>\n"
      ],
      "text/latex": [
       "\\begin{tabular}{r|ll}\n",
       " Title & n\\\\\n",
       "\\hline\n",
       "\t Col.    &   2    \\\\\n",
       "\t Don.    &   1    \\\\\n",
       "\t Dr.     &   1    \\\\\n",
       "\t Master. &  21    \\\\\n",
       "\t Miss.   &  78    \\\\\n",
       "\t Mr.     & 240    \\\\\n",
       "\t Mrs.    &  72    \\\\\n",
       "\t Ms.     &   1    \\\\\n",
       "\t Rev.    &   2    \\\\\n",
       "\\end{tabular}\n"
      ],
      "text/markdown": [
       "\n",
       "| Title | n |\n",
       "|---|---|\n",
       "| Col.    |   2     |\n",
       "| Don.    |   1     |\n",
       "| Dr.     |   1     |\n",
       "| Master. |  21     |\n",
       "| Miss.   |  78     |\n",
       "| Mr.     | 240     |\n",
       "| Mrs.    |  72     |\n",
       "| Ms.     |   1     |\n",
       "| Rev.    |   2     |\n",
       "\n"
      ],
      "text/plain": [
       "  Title   n  \n",
       "1 Col.      2\n",
       "2 Don.      1\n",
       "3 Dr.       1\n",
       "4 Master.  21\n",
       "5 Miss.    78\n",
       "6 Mr.     240\n",
       "7 Mrs.     72\n",
       "8 Ms.       1\n",
       "9 Rev.      2"
      ]
     },
     "metadata": {},
     "output_type": "display_data"
    }
   ],
   "source": [
    "titanic_test_factorized %>% group_by(Title) %>% summarize(n = n())"
   ]
  },
  {
   "cell_type": "markdown",
   "metadata": {},
   "source": [
    "### Neural Networks with nnet (single hidden layer)"
   ]
  },
  {
   "cell_type": "code",
   "execution_count": null,
   "metadata": {},
   "outputs": [],
   "source": [
    "fit_nnet <- train(Survived ~ Sex + Fare + Pclass + Age + FamilySize + SibSp + Parch, method = \"nnet\", data = titanic_train_factorized,\n",
    "                  preProcess = \"range\",\n",
    "                  tuneGrid = expand.grid(size = seq(from = 1, to = 10, by = 1),\n",
    "                        decay = seq(from = 0.1, to = 0.7, by = 0.1)),\n",
    "                  trControl = trainControl(method=\"repeatedcv\", number=8, repeats = 5))"
   ]
  },
  {
   "cell_type": "code",
   "execution_count": 37,
   "metadata": {},
   "outputs": [
    {
     "data": {
      "text/plain": [
       "Neural Network \n",
       "\n",
       "891 samples\n",
       "  7 predictor\n",
       "  2 classes: '0', '1' \n",
       "\n",
       "Pre-processing: re-scaling to [0, 1] (8) \n",
       "Resampling: Cross-Validated (8 fold, repeated 5 times) \n",
       "Summary of sample sizes: 780, 780, 780, 779, 779, 780, ... \n",
       "Resampling results across tuning parameters:\n",
       "\n",
       "  size  decay  Accuracy   Kappa    \n",
       "   1    0.1    0.8024459  0.5654089\n",
       "   1    0.2    0.8010924  0.5625806\n",
       "   1    0.3    0.8024519  0.5652458\n",
       "   1    0.4    0.8031175  0.5666984\n",
       "   1    0.5    0.8044527  0.5698663\n",
       "   1    0.6    0.8066970  0.5746062\n",
       "   1    0.7    0.8069120  0.5755867\n",
       "   2    0.1    0.8015592  0.5640074\n",
       "   2    0.2    0.8017743  0.5650038\n",
       "   2    0.3    0.8044588  0.5707855\n",
       "   2    0.4    0.8062505  0.5745835\n",
       "   2    0.5    0.8051223  0.5725622\n",
       "   2    0.6    0.8053456  0.5732071\n",
       "   2    0.7    0.8062424  0.5752225\n",
       "   3    0.1    0.8114330  0.5864732\n",
       "   3    0.2    0.8024460  0.5662386\n",
       "   3    0.3    0.8035680  0.5685486\n",
       "   3    0.4    0.8055829  0.5734736\n",
       "   3    0.5    0.8046699  0.5717385\n",
       "   3    0.6    0.8057899  0.5744456\n",
       "   3    0.7    0.8053455  0.5737118\n",
       "   4    0.1    0.8141156  0.5932905\n",
       "   4    0.2    0.8033448  0.5685326\n",
       "   4    0.3    0.8026711  0.5668550\n",
       "   4    0.4    0.8062505  0.5748887\n",
       "   4    0.5    0.8039942  0.5705338\n",
       "   4    0.6    0.8051163  0.5731512\n",
       "   4    0.7    0.8055688  0.5746766\n",
       "   5    0.1    0.8138844  0.5930550\n",
       "   5    0.2    0.8044670  0.5706645\n",
       "   5    0.3    0.8022226  0.5660589\n",
       "   5    0.4    0.8049032  0.5721511\n",
       "   5    0.5    0.8046618  0.5721729\n",
       "   5    0.6    0.8053435  0.5738981\n",
       "   5    0.7    0.8048931  0.5733457\n",
       "   6    0.1    0.8105281  0.5853347\n",
       "   6    0.2    0.8024419  0.5667406\n",
       "   6    0.3    0.8022226  0.5658479\n",
       "   6    0.4    0.8049012  0.5722009\n",
       "   6    0.5    0.8046618  0.5721729\n",
       "   6    0.6    0.8055688  0.5746067\n",
       "   6    0.7    0.8044486  0.5728148\n",
       "   7    0.1    0.8125411  0.5899674\n",
       "   7    0.2    0.8042377  0.5706448\n",
       "   7    0.3    0.8028943  0.5677261\n",
       "   7    0.4    0.8046780  0.5716440\n",
       "   7    0.5    0.8042113  0.5712950\n",
       "   7    0.6    0.8053456  0.5742785\n",
       "   7    0.7    0.8044446  0.5729529\n",
       "   8    0.1    0.8138844  0.5929746\n",
       "   8    0.2    0.8042377  0.5702791\n",
       "   8    0.3    0.8037912  0.5694871\n",
       "   8    0.4    0.8053496  0.5730080\n",
       "   8    0.5    0.8042134  0.5714092\n",
       "   8    0.6    0.8053496  0.5743032\n",
       "   8    0.7    0.8046719  0.5735031\n",
       "   9    0.1    0.8141076  0.5934567\n",
       "   9    0.2    0.8017662  0.5651745\n",
       "   9    0.3    0.8042356  0.5706922\n",
       "   9    0.4    0.8051264  0.5726335\n",
       "   9    0.5    0.8046638  0.5722871\n",
       "   9    0.6    0.8051264  0.5739484\n",
       "   9    0.7    0.8033246  0.5709960\n",
       "  10    0.1    0.8143308  0.5943922\n",
       "  10    0.2    0.8037852  0.5695678\n",
       "  10    0.3    0.8022287  0.5660795\n",
       "  10    0.4    0.8049032  0.5721799\n",
       "  10    0.5    0.8042134  0.5714092\n",
       "  10    0.6    0.8049032  0.5735160\n",
       "  10    0.7    0.8040002  0.5724253\n",
       "\n",
       "Accuracy was used to select the optimal model using the largest value.\n",
       "The final values used for the model were size = 10 and decay = 0.1."
      ]
     },
     "metadata": {},
     "output_type": "display_data"
    }
   ],
   "source": [
    "fit_nnet"
   ]
  },
  {
   "cell_type": "code",
   "execution_count": 38,
   "metadata": {},
   "outputs": [
    {
     "data": {
      "image/png": "[encoded data removed]",
      "text/plain": [
       "plot without title"
      ]
     },
     "metadata": {},
     "output_type": "display_data"
    }
   ],
   "source": [
    "plot(fit_nnet)"
   ]
  },
  {
   "cell_type": "code",
   "execution_count": 39,
   "metadata": {},
   "outputs": [],
   "source": [
    "y_hat_nnet <- predict(fit_nnet, titanic_test_factorized)\n",
    "pred_nnet <- tibble(PassengerId = titanic_test$PassengerId,\n",
    "                    Survived = as.character(y_hat_nnet))\n",
    "write_csv(pred_nnet, \"./csv_files/pred_nnet.csv\")"
   ]
  },
  {
   "cell_type": "markdown",
   "metadata": {},
   "source": [
    "nnet scored 0.76076"
   ]
  },
  {
   "cell_type": "markdown",
   "metadata": {},
   "source": [
    "### knn"
   ]
  },
  {
   "cell_type": "code",
   "execution_count": 40,
   "metadata": {},
   "outputs": [],
   "source": [
    "fit_knn <- train(Survived ~ Sex + Pclass + Fare + Age + FamilySize, method = \"knn\", data = titanic_train_factorized,\n",
    "                 preProcess= \"range\",\n",
    "                 tuneGrid = data.frame(k = seq(3, 33, 2)),\n",
    "                 trControl = trainControl(method=\"repeatedcv\", number=8, repeats = 5))"
   ]
  },
  {
   "cell_type": "code",
   "execution_count": 41,
   "metadata": {},
   "outputs": [
    {
     "data": {
      "text/plain": [
       "k-Nearest Neighbors \n",
       "\n",
       "891 samples\n",
       "  5 predictor\n",
       "  2 classes: '0', '1' \n",
       "\n",
       "Pre-processing: re-scaling to [0, 1] (6) \n",
       "Resampling: Cross-Validated (8 fold, repeated 5 times) \n",
       "Summary of sample sizes: 781, 779, 780, 780, 779, 779, ... \n",
       "Resampling results across tuning parameters:\n",
       "\n",
       "  k   Accuracy   Kappa    \n",
       "   3  0.8067781  0.5885102\n",
       "   5  0.8128149  0.5992587\n",
       "   7  0.8125858  0.5980079\n",
       "   9  0.8132635  0.5970404\n",
       "  11  0.8060824  0.5793090\n",
       "  13  0.8067219  0.5800222\n",
       "  15  0.8033594  0.5699162\n",
       "  17  0.8060603  0.5749416\n",
       "  19  0.8006609  0.5621436\n",
       "  21  0.8031505  0.5675707\n",
       "  23  0.8044998  0.5708364\n",
       "  25  0.8071864  0.5774813\n",
       "  27  0.8044997  0.5717011\n",
       "  29  0.8067419  0.5764081\n",
       "  31  0.8053926  0.5736571\n",
       "  33  0.8031565  0.5684123\n",
       "\n",
       "Accuracy was used to select the optimal model using the largest value.\n",
       "The final value used for the model was k = 9."
      ]
     },
     "metadata": {},
     "output_type": "display_data"
    }
   ],
   "source": [
    "fit_knn"
   ]
  },
  {
   "cell_type": "code",
   "execution_count": 42,
   "metadata": {},
   "outputs": [
    {
     "data": {
      "image/png": "[encoded data removed]",
      "text/plain": [
       "plot without title"
      ]
     },
     "metadata": {},
     "output_type": "display_data"
    }
   ],
   "source": [
    "plot(fit_knn)"
   ]
  },
  {
   "cell_type": "code",
   "execution_count": 43,
   "metadata": {},
   "outputs": [],
   "source": [
    "y_hat_knn <- predict(fit_knn, titanic_test_factorized)\n",
    "pred_knn <- tibble(PassengerId = titanic_test$PassengerId,\n",
    "                    Survived = as.character(y_hat_knn))\n",
    "write_csv(pred_knn, \"./csv_files/pred_knn.csv\")"
   ]
  },
  {
   "cell_type": "markdown",
   "metadata": {},
   "source": [
    "### Logistic regression with glm"
   ]
  },
  {
   "cell_type": "code",
   "execution_count": 44,
   "metadata": {},
   "outputs": [],
   "source": [
    "fit_logit <- train(Survived ~ Sex + Fare + Pclass + FamilySize + Age, method = \"glm\", \n",
    "                data = titanic_train_factorized, family = \"binomial\",\n",
    "                trControl = trainControl(method=\"repeatedcv\", number=8, repeats=5))"
   ]
  },
  {
   "cell_type": "code",
   "execution_count": 45,
   "metadata": {},
   "outputs": [
    {
     "data": {
      "text/plain": [
       "Generalized Linear Model \n",
       "\n",
       "891 samples\n",
       "  5 predictor\n",
       "  2 classes: '0', '1' \n",
       "\n",
       "No pre-processing\n",
       "Resampling: Cross-Validated (8 fold, repeated 5 times) \n",
       "Summary of sample sizes: 779, 779, 779, 779, 780, 779, ... \n",
       "Resampling results:\n",
       "\n",
       "  Accuracy   Kappa    \n",
       "  0.7957405  0.5630312\n"
      ]
     },
     "metadata": {},
     "output_type": "display_data"
    }
   ],
   "source": [
    "fit_logit"
   ]
  },
  {
   "cell_type": "code",
   "execution_count": 46,
   "metadata": {},
   "outputs": [],
   "source": [
    "y_hat_logit <- predict(fit_logit, titanic_test_factorized)\n",
    "pred_logit <- tibble(PassengerId = titanic_test$PassengerId,\n",
    "                    Survived = as.character(y_hat_logit))\n",
    "write_csv(pred_logit, \"./csv_files/pred_logit.csv\")"
   ]
  },
  {
   "cell_type": "markdown",
   "metadata": {},
   "source": [
    "logit submission scored 0.75598"
   ]
  },
  {
   "cell_type": "markdown",
   "metadata": {},
   "source": [
    "### Decision Tree with rpart"
   ]
  },
  {
   "cell_type": "code",
   "execution_count": 47,
   "metadata": {},
   "outputs": [],
   "source": [
    "fit_rpart <- train(Survived ~ ., method = \"rpart\", tuneGrid = data.frame(cp = seq(0, 0.02, 0.001)),\n",
    "                data = titanic_train_factorized,\n",
    "                trControl = trainControl(method=\"repeatedcv\", number=8, repeats = 5))"
   ]
  },
  {
   "cell_type": "code",
   "execution_count": 48,
   "metadata": {},
   "outputs": [
    {
     "data": {
      "text/html": [
       "<table>\n",
       "<thead><tr><th></th><th scope=col>cp</th></tr></thead>\n",
       "<tbody>\n",
       "\t<tr><th scope=row>6</th><td>0.005</td></tr>\n",
       "</tbody>\n",
       "</table>\n"
      ],
      "text/latex": [
       "\\begin{tabular}{r|l}\n",
       "  & cp\\\\\n",
       "\\hline\n",
       "\t6 & 0.005\\\\\n",
       "\\end{tabular}\n"
      ],
      "text/markdown": [
       "\n",
       "| <!--/--> | cp |\n",
       "|---|---|\n",
       "| 6 | 0.005 |\n",
       "\n"
      ],
      "text/plain": [
       "  cp   \n",
       "6 0.005"
      ]
     },
     "metadata": {},
     "output_type": "display_data"
    }
   ],
   "source": [
    "fit_rpart$bestTune"
   ]
  },
  {
   "cell_type": "code",
   "execution_count": 49,
   "metadata": {},
   "outputs": [
    {
     "data": {
      "text/plain": [
       "CART \n",
       "\n",
       "891 samples\n",
       "  9 predictor\n",
       "  2 classes: '0', '1' \n",
       "\n",
       "No pre-processing\n",
       "Resampling: Cross-Validated (8 fold, repeated 5 times) \n",
       "Summary of sample sizes: 779, 781, 779, 780, 781, 779, ... \n",
       "Resampling results across tuning parameters:\n",
       "\n",
       "  cp     Accuracy   Kappa    \n",
       "  0.000  0.8150333  0.6018038\n",
       "  0.001  0.8150333  0.6018038\n",
       "  0.002  0.8143515  0.5999390\n",
       "  0.003  0.8154737  0.6011964\n",
       "  0.004  0.8190794  0.6076567\n",
       "  0.005  0.8201995  0.6099510\n",
       "  0.006  0.8186370  0.6066409\n",
       "  0.007  0.8168291  0.6031072\n",
       "  0.008  0.8168331  0.6036603\n",
       "  0.009  0.8139233  0.5971481\n",
       "  0.010  0.8139193  0.5974108\n",
       "  0.011  0.8130245  0.5956799\n",
       "  0.012  0.8143657  0.5995276\n",
       "  0.013  0.8143657  0.5995276\n",
       "  0.014  0.8143758  0.6017751\n",
       "  0.015  0.8143758  0.6017751\n",
       "  0.016  0.8145991  0.6033066\n",
       "  0.017  0.8141527  0.6022383\n",
       "  0.018  0.8141527  0.6022383\n",
       "  0.019  0.8143759  0.6027737\n",
       "  0.020  0.8146011  0.6032954\n",
       "\n",
       "Accuracy was used to select the optimal model using the largest value.\n",
       "The final value used for the model was cp = 0.005."
      ]
     },
     "metadata": {},
     "output_type": "display_data"
    }
   ],
   "source": [
    "fit_rpart"
   ]
  },
  {
   "cell_type": "code",
   "execution_count": 50,
   "metadata": {},
   "outputs": [
    {
     "data": {
      "image/png": "[encoded data removed]",
      "text/plain": [
       "plot without title"
      ]
     },
     "metadata": {},
     "output_type": "display_data"
    }
   ],
   "source": [
    "plot(fit_rpart)"
   ]
  },
  {
   "cell_type": "code",
   "execution_count": 51,
   "metadata": {},
   "outputs": [],
   "source": [
    "y_hat_rpart <- predict(fit_rpart, titanic_test_factorized)\n",
    "pred_rpart <- tibble(PassengerId = titanic_test$PassengerId,\n",
    "                    Survived = as.character(y_hat_rpart))\n",
    "write_csv(pred_rpart, \"./csv_files/pred_rpart.csv\")"
   ]
  },
  {
   "cell_type": "code",
   "execution_count": 52,
   "metadata": {},
   "outputs": [
    {
     "data": {
      "text/plain": [
       "rpart variable importance\n",
       "\n",
       "  only 20 most important variables shown (out of 26)\n",
       "\n",
       "               Overall\n",
       "Sexmale        100.000\n",
       "TitleMr.        93.303\n",
       "Pclass3         66.565\n",
       "Fare            39.593\n",
       "TitleMrs.       36.335\n",
       "TitleMiss.      33.873\n",
       "FamilySize      24.201\n",
       "SibSp           20.089\n",
       "Age             13.261\n",
       "TitleMaster.     6.814\n",
       "Pclass2          6.442\n",
       "EmbarkedS        2.900\n",
       "EmbarkedQ        1.248\n",
       "TitleMajor.      0.000\n",
       "TitleJonkheer.   0.000\n",
       "TitleMme.        0.000\n",
       "TitleLady.       0.000\n",
       "TitleDon.        0.000\n",
       "TitleSir.        0.000\n",
       "Parch            0.000"
      ]
     },
     "metadata": {},
     "output_type": "display_data"
    }
   ],
   "source": [
    "varImp(fit_rpart)"
   ]
  },
  {
   "cell_type": "code",
   "execution_count": 53,
   "metadata": {},
   "outputs": [
    {
     "data": {
      "text/html": [
       "418"
      ],
      "text/latex": [
       "418"
      ],
      "text/markdown": [
       "418"
      ],
      "text/plain": [
       "[1] 418"
      ]
     },
     "metadata": {},
     "output_type": "display_data"
    }
   ],
   "source": [
    "nrow(pred_rpart)"
   ]
  },
  {
   "cell_type": "markdown",
   "metadata": {},
   "source": [
    "rpart submission scored 0.77511"
   ]
  },
  {
   "cell_type": "markdown",
   "metadata": {},
   "source": [
    "### Random Forest"
   ]
  },
  {
   "cell_type": "code",
   "execution_count": 54,
   "metadata": {},
   "outputs": [
    {
     "data": {
      "text/html": [
       "<table>\n",
       "<thead><tr><th></th><th scope=col>mtry</th></tr></thead>\n",
       "<tbody>\n",
       "\t<tr><th scope=row>2</th><td>3</td></tr>\n",
       "</tbody>\n",
       "</table>\n"
      ],
      "text/latex": [
       "\\begin{tabular}{r|l}\n",
       "  & mtry\\\\\n",
       "\\hline\n",
       "\t2 & 3\\\\\n",
       "\\end{tabular}\n"
      ],
      "text/markdown": [
       "\n",
       "| <!--/--> | mtry |\n",
       "|---|---|\n",
       "| 2 | 3 |\n",
       "\n"
      ],
      "text/plain": [
       "  mtry\n",
       "2 3   "
      ]
     },
     "metadata": {},
     "output_type": "display_data"
    }
   ],
   "source": [
    "fit_rf <- train(Survived ~ ., method = \"rf\", data = titanic_train_factorized,\n",
    "               ntree = 1000, tuneGrid = data.frame(mtry = seq(2, 5, 1)),\n",
    "               trControl = trainControl(method=\"repeatedcv\", number=8, repeats = 5))\n",
    "fit_rf$bestTune"
   ]
  },
  {
   "cell_type": "code",
   "execution_count": 55,
   "metadata": {},
   "outputs": [
    {
     "data": {
      "text/plain": [
       "Random Forest \n",
       "\n",
       "891 samples\n",
       "  9 predictor\n",
       "  2 classes: '0', '1' \n",
       "\n",
       "No pre-processing\n",
       "Resampling: Cross-Validated (8 fold, repeated 5 times) \n",
       "Summary of sample sizes: 781, 779, 780, 779, 779, 780, ... \n",
       "Resampling results across tuning parameters:\n",
       "\n",
       "  mtry  Accuracy   Kappa    \n",
       "  2     0.8217297  0.6147389\n",
       "  3     0.8286856  0.6312881\n",
       "  4     0.8275696  0.6267304\n",
       "  5     0.8277969  0.6250803\n",
       "\n",
       "Accuracy was used to select the optimal model using the largest value.\n",
       "The final value used for the model was mtry = 3."
      ]
     },
     "metadata": {},
     "output_type": "display_data"
    }
   ],
   "source": [
    "fit_rf"
   ]
  },
  {
   "cell_type": "code",
   "execution_count": 56,
   "metadata": {},
   "outputs": [
    {
     "data": {
      "image/png": "[encoded data removed]",
      "text/plain": [
       "plot without title"
      ]
     },
     "metadata": {},
     "output_type": "display_data"
    }
   ],
   "source": [
    "plot(fit_rf)"
   ]
  },
  {
   "cell_type": "code",
   "execution_count": 57,
   "metadata": {},
   "outputs": [],
   "source": [
    "y_hat_rf <- predict(fit_rf, titanic_test_factorized)\n",
    "pred_rf <- tibble(PassengerId = titanic_test$PassengerId,\n",
    "                 Survived = as.character(y_hat_rf))\n",
    "write_csv(pred_rf, \"./csv_files/pred_rf.csv\")"
   ]
  },
  {
   "cell_type": "code",
   "execution_count": 58,
   "metadata": {},
   "outputs": [
    {
     "data": {
      "text/plain": [
       "rf variable importance\n",
       "\n",
       "  only 20 most important variables shown (out of 26)\n",
       "\n",
       "              Overall\n",
       "Sexmale      100.0000\n",
       "TitleMr.      97.9322\n",
       "Fare          55.1372\n",
       "Pclass3       35.4334\n",
       "TitleMiss.    32.1496\n",
       "TitleMrs.     31.8277\n",
       "Age           28.8433\n",
       "FamilySize    24.5496\n",
       "SibSp         17.3673\n",
       "Parch         10.3100\n",
       "EmbarkedS      8.2209\n",
       "Pclass2        7.9589\n",
       "TitleMaster.   6.2020\n",
       "EmbarkedQ      3.6370\n",
       "TitleRev.      2.6566\n",
       "TitleDr.       1.2658\n",
       "TitleCol.      0.6220\n",
       "TitleMajor.    0.3603\n",
       "TitleMlle.     0.3573\n",
       "TitleDon.      0.2717"
      ]
     },
     "metadata": {},
     "output_type": "display_data"
    }
   ],
   "source": [
    "varImp(fit_rf)"
   ]
  },
  {
   "cell_type": "markdown",
   "metadata": {},
   "source": [
    "rf submission scored 0.78468"
   ]
  },
  {
   "cell_type": "markdown",
   "metadata": {},
   "source": [
    "### SVM with linear kernel"
   ]
  },
  {
   "cell_type": "code",
   "execution_count": 74,
   "metadata": {},
   "outputs": [],
   "source": [
    "fit_svm <- train(Survived ~ Sex + Fare + Pclass + Age + SibSp + Parch, method = \"svmLinear\", data = titanic_train_factorized,\n",
    "                 preProcess = \"range\",\n",
    "                 tuneGrid = expand.grid(C = seq(0.01, 2, length = 10)),\n",
    "                 trControl = trainControl(method=\"repeatedcv\", number=8, repeats = 5))"
   ]
  },
  {
   "cell_type": "code",
   "execution_count": 75,
   "metadata": {},
   "outputs": [
    {
     "data": {
      "text/plain": [
       "Support Vector Machines with Linear Kernel \n",
       "\n",
       "891 samples\n",
       "  6 predictor\n",
       "  2 classes: '0', '1' \n",
       "\n",
       "Pre-processing: re-scaling to [0, 1] (7) \n",
       "Resampling: Cross-Validated (8 fold, repeated 5 times) \n",
       "Summary of sample sizes: 780, 779, 779, 779, 780, 781, ... \n",
       "Resampling results across tuning parameters:\n",
       "\n",
       "  C          Accuracy   Kappa    \n",
       "  0.0100000  0.7867939  0.5421770\n",
       "  0.2311111  0.7867939  0.5420722\n",
       "  0.4522222  0.7867939  0.5420722\n",
       "  0.6733333  0.7867939  0.5420722\n",
       "  0.8944444  0.7861242  0.5406637\n",
       "  1.1155556  0.7861242  0.5406637\n",
       "  1.3366667  0.7861242  0.5406637\n",
       "  1.5577778  0.7861242  0.5406637\n",
       "  1.7788889  0.7861242  0.5406637\n",
       "  2.0000000  0.7861242  0.5406637\n",
       "\n",
       "Accuracy was used to select the optimal model using the largest value.\n",
       "The final value used for the model was C = 0.01."
      ]
     },
     "metadata": {},
     "output_type": "display_data"
    }
   ],
   "source": [
    "fit_svm"
   ]
  },
  {
   "cell_type": "code",
   "execution_count": 76,
   "metadata": {},
   "outputs": [
    {
     "data": {
      "image/png": "[encoded data removed]",
      "text/plain": [
       "plot without title"
      ]
     },
     "metadata": {},
     "output_type": "display_data"
    }
   ],
   "source": [
    "plot(fit_svm)"
   ]
  },
  {
   "cell_type": "code",
   "execution_count": 77,
   "metadata": {},
   "outputs": [],
   "source": [
    "y_hat_svm <- predict(fit_svm, titanic_test_factorized)\n",
    "pred_svm <- tibble(PassengerID = titanic_test$PassengerId,\n",
    "                  Survived = as.character(y_hat_svm))\n",
    "write_csv(pred_svm, \"./csv_files/pred_svm.csv\")"
   ]
  },
  {
   "cell_type": "code",
   "execution_count": 78,
   "metadata": {},
   "outputs": [
    {
     "name": "stdout",
     "output_type": "stream",
     "text": [
      " Factor w/ 2 levels \"0\",\"1\": 1 2 1 1 2 1 2 1 2 1 ...\n"
     ]
    }
   ],
   "source": [
    "str(y_hat_svm)"
   ]
  },
  {
   "cell_type": "code",
   "execution_count": 79,
   "metadata": {},
   "outputs": [
    {
     "name": "stdout",
     "output_type": "stream",
     "text": [
      " chr [1:418] \"0\" \"1\" \"0\" \"0\" \"1\" \"0\" \"1\" \"0\" \"1\" \"0\" \"0\" \"0\" \"1\" \"0\" \"1\" ...\n"
     ]
    }
   ],
   "source": [
    "str(pred_svm$Survived)"
   ]
  },
  {
   "cell_type": "markdown",
   "metadata": {},
   "source": [
    "SVM scored 0.76555"
   ]
  },
  {
   "cell_type": "markdown",
   "metadata": {},
   "source": [
    "\n",
    "\n",
    "### Ensembles with select models"
   ]
  },
  {
   "cell_type": "code",
   "execution_count": 80,
   "metadata": {},
   "outputs": [
    {
     "data": {
      "text/plain": [
       "\n",
       "Call:\n",
       "summary.resamples(object = results)\n",
       "\n",
       "Models: rf, nnet, rpart, knn, svm, logit \n",
       "Number of resamples: 40 \n",
       "\n",
       "Accuracy \n",
       "           Min.   1st Qu.    Median      Mean   3rd Qu.      Max. NA's\n",
       "rf    0.7747748 0.8090909 0.8243506 0.8286856 0.8482143 0.9285714    0\n",
       "nnet  0.7567568 0.7927928 0.8125000 0.8143308 0.8381998 0.8928571    0\n",
       "rpart 0.7589286 0.8018018 0.8214286 0.8201995 0.8389844 0.8839286    0\n",
       "knn   0.7589286 0.7941803 0.8071911 0.8132635 0.8341315 0.8648649    0\n",
       "svm   0.7053571 0.7673343 0.7883117 0.7867939 0.8125000 0.8660714    0\n",
       "logit 0.7321429 0.7747748 0.7982223 0.7957405 0.8143300 0.8482143    0\n",
       "\n",
       "Kappa \n",
       "           Min.   1st Qu.    Median      Mean   3rd Qu.      Max. NA's\n",
       "rf    0.5189808 0.5928016 0.6191772 0.6312881 0.6726786 0.8449290    0\n",
       "nnet  0.4754219 0.5414860 0.5925251 0.5943922 0.6455018 0.7652812    0\n",
       "rpart 0.4836066 0.5686962 0.6153216 0.6099510 0.6494702 0.7445614    0\n",
       "knn   0.4881517 0.5565287 0.5860671 0.5970404 0.6487060 0.7090687    0\n",
       "svm   0.3631978 0.4987626 0.5489847 0.5421770 0.5968464 0.7105445    0\n",
       "logit 0.4236707 0.5103236 0.5693253 0.5630312 0.6062161 0.6745237    0\n"
      ]
     },
     "metadata": {},
     "output_type": "display_data"
    },
    {
     "data": {
      "image/png": "[encoded data removed]",
      "text/plain": [
       "plot without title"
      ]
     },
     "metadata": {},
     "output_type": "display_data"
    }
   ],
   "source": [
    "# Compare model results\n",
    "results <- resamples(list(rf=fit_rf, nnet=fit_nnet, rpart=fit_rpart, knn=fit_knn, svm=fit_svm, logit=fit_logit))\n",
    "summary(results)\n",
    "bwplot(results)"
   ]
  },
  {
   "cell_type": "code",
   "execution_count": 81,
   "metadata": {},
   "outputs": [],
   "source": [
    "models <- c(\"pred_rf\", \"pred_nnet\", \"pred_rpart\", \"pred_knn\", \"pred_logit\")\n",
    "# excluding worst-performing svm model and gender model"
   ]
  },
  {
   "cell_type": "code",
   "execution_count": 82,
   "metadata": {},
   "outputs": [
    {
     "data": {
      "text/html": [
       "418"
      ],
      "text/latex": [
       "418"
      ],
      "text/markdown": [
       "418"
      ],
      "text/plain": [
       "[1] 418"
      ]
     },
     "metadata": {},
     "output_type": "display_data"
    }
   ],
   "source": [
    "length(pred_rf$Survived)"
   ]
  },
  {
   "cell_type": "code",
   "execution_count": 83,
   "metadata": {},
   "outputs": [],
   "source": [
    "preds <- sapply(models, function(model){\n",
    "    x = paste0(model, \"$Survived\")\n",
    "    eval(parse(text = x))\n",
    "})"
   ]
  },
  {
   "cell_type": "code",
   "execution_count": 84,
   "metadata": {},
   "outputs": [
    {
     "data": {
      "text/html": [
       "<ol class=list-inline>\n",
       "\t<li>418</li>\n",
       "\t<li>5</li>\n",
       "</ol>\n"
      ],
      "text/latex": [
       "\\begin{enumerate*}\n",
       "\\item 418\n",
       "\\item 5\n",
       "\\end{enumerate*}\n"
      ],
      "text/markdown": [
       "1. 418\n",
       "2. 5\n",
       "\n",
       "\n"
      ],
      "text/plain": [
       "[1] 418   5"
      ]
     },
     "metadata": {},
     "output_type": "display_data"
    }
   ],
   "source": [
    "dim(preds)"
   ]
  },
  {
   "cell_type": "code",
   "execution_count": 85,
   "metadata": {},
   "outputs": [
    {
     "data": {
      "text/html": [
       "<table>\n",
       "<thead><tr><th scope=col>pred_rf</th><th scope=col>pred_nnet</th><th scope=col>pred_rpart</th><th scope=col>pred_knn</th><th scope=col>pred_logit</th></tr></thead>\n",
       "<tbody>\n",
       "\t<tr><td>0</td><td>0</td><td>0</td><td>0</td><td>0</td></tr>\n",
       "\t<tr><td>1</td><td>0</td><td>0</td><td>0</td><td>0</td></tr>\n",
       "\t<tr><td>0</td><td>0</td><td>0</td><td>0</td><td>0</td></tr>\n",
       "\t<tr><td>0</td><td>0</td><td>0</td><td>0</td><td>0</td></tr>\n",
       "\t<tr><td>1</td><td>0</td><td>1</td><td>1</td><td>1</td></tr>\n",
       "\t<tr><td>0</td><td>0</td><td>0</td><td>0</td><td>0</td></tr>\n",
       "\t<tr><td>1</td><td>1</td><td>1</td><td>1</td><td>1</td></tr>\n",
       "\t<tr><td>0</td><td>0</td><td>0</td><td>0</td><td>0</td></tr>\n",
       "\t<tr><td>1</td><td>1</td><td>1</td><td>1</td><td>1</td></tr>\n",
       "\t<tr><td>0</td><td>0</td><td>0</td><td>0</td><td>0</td></tr>\n",
       "\t<tr><td>0</td><td>0</td><td>0</td><td>0</td><td>0</td></tr>\n",
       "\t<tr><td>0</td><td>0</td><td>0</td><td>0</td><td>0</td></tr>\n",
       "\t<tr><td>1</td><td>1</td><td>1</td><td>1</td><td>1</td></tr>\n",
       "\t<tr><td>0</td><td>0</td><td>0</td><td>0</td><td>0</td></tr>\n",
       "\t<tr><td>1</td><td>1</td><td>1</td><td>1</td><td>1</td></tr>\n",
       "\t<tr><td>1</td><td>1</td><td>1</td><td>1</td><td>1</td></tr>\n",
       "\t<tr><td>0</td><td>0</td><td>0</td><td>0</td><td>0</td></tr>\n",
       "\t<tr><td>0</td><td>0</td><td>0</td><td>0</td><td>0</td></tr>\n",
       "\t<tr><td>1</td><td>1</td><td>0</td><td>1</td><td>1</td></tr>\n",
       "\t<tr><td>1</td><td>1</td><td>0</td><td>0</td><td>0</td></tr>\n",
       "</tbody>\n",
       "</table>\n"
      ],
      "text/latex": [
       "\\begin{tabular}{lllll}\n",
       " pred\\_rf & pred\\_nnet & pred\\_rpart & pred\\_knn & pred\\_logit\\\\\n",
       "\\hline\n",
       "\t 0 & 0 & 0 & 0 & 0\\\\\n",
       "\t 1 & 0 & 0 & 0 & 0\\\\\n",
       "\t 0 & 0 & 0 & 0 & 0\\\\\n",
       "\t 0 & 0 & 0 & 0 & 0\\\\\n",
       "\t 1 & 0 & 1 & 1 & 1\\\\\n",
       "\t 0 & 0 & 0 & 0 & 0\\\\\n",
       "\t 1 & 1 & 1 & 1 & 1\\\\\n",
       "\t 0 & 0 & 0 & 0 & 0\\\\\n",
       "\t 1 & 1 & 1 & 1 & 1\\\\\n",
       "\t 0 & 0 & 0 & 0 & 0\\\\\n",
       "\t 0 & 0 & 0 & 0 & 0\\\\\n",
       "\t 0 & 0 & 0 & 0 & 0\\\\\n",
       "\t 1 & 1 & 1 & 1 & 1\\\\\n",
       "\t 0 & 0 & 0 & 0 & 0\\\\\n",
       "\t 1 & 1 & 1 & 1 & 1\\\\\n",
       "\t 1 & 1 & 1 & 1 & 1\\\\\n",
       "\t 0 & 0 & 0 & 0 & 0\\\\\n",
       "\t 0 & 0 & 0 & 0 & 0\\\\\n",
       "\t 1 & 1 & 0 & 1 & 1\\\\\n",
       "\t 1 & 1 & 0 & 0 & 0\\\\\n",
       "\\end{tabular}\n"
      ],
      "text/markdown": [
       "\n",
       "| pred_rf | pred_nnet | pred_rpart | pred_knn | pred_logit |\n",
       "|---|---|---|---|---|\n",
       "| 0 | 0 | 0 | 0 | 0 |\n",
       "| 1 | 0 | 0 | 0 | 0 |\n",
       "| 0 | 0 | 0 | 0 | 0 |\n",
       "| 0 | 0 | 0 | 0 | 0 |\n",
       "| 1 | 0 | 1 | 1 | 1 |\n",
       "| 0 | 0 | 0 | 0 | 0 |\n",
       "| 1 | 1 | 1 | 1 | 1 |\n",
       "| 0 | 0 | 0 | 0 | 0 |\n",
       "| 1 | 1 | 1 | 1 | 1 |\n",
       "| 0 | 0 | 0 | 0 | 0 |\n",
       "| 0 | 0 | 0 | 0 | 0 |\n",
       "| 0 | 0 | 0 | 0 | 0 |\n",
       "| 1 | 1 | 1 | 1 | 1 |\n",
       "| 0 | 0 | 0 | 0 | 0 |\n",
       "| 1 | 1 | 1 | 1 | 1 |\n",
       "| 1 | 1 | 1 | 1 | 1 |\n",
       "| 0 | 0 | 0 | 0 | 0 |\n",
       "| 0 | 0 | 0 | 0 | 0 |\n",
       "| 1 | 1 | 0 | 1 | 1 |\n",
       "| 1 | 1 | 0 | 0 | 0 |\n",
       "\n"
      ],
      "text/plain": [
       "      pred_rf pred_nnet pred_rpart pred_knn pred_logit\n",
       " [1,] 0       0         0          0        0         \n",
       " [2,] 1       0         0          0        0         \n",
       " [3,] 0       0         0          0        0         \n",
       " [4,] 0       0         0          0        0         \n",
       " [5,] 1       0         1          1        1         \n",
       " [6,] 0       0         0          0        0         \n",
       " [7,] 1       1         1          1        1         \n",
       " [8,] 0       0         0          0        0         \n",
       " [9,] 1       1         1          1        1         \n",
       "[10,] 0       0         0          0        0         \n",
       "[11,] 0       0         0          0        0         \n",
       "[12,] 0       0         0          0        0         \n",
       "[13,] 1       1         1          1        1         \n",
       "[14,] 0       0         0          0        0         \n",
       "[15,] 1       1         1          1        1         \n",
       "[16,] 1       1         1          1        1         \n",
       "[17,] 0       0         0          0        0         \n",
       "[18,] 0       0         0          0        0         \n",
       "[19,] 1       1         0          1        1         \n",
       "[20,] 1       1         0          0        0         "
      ]
     },
     "metadata": {},
     "output_type": "display_data"
    }
   ],
   "source": [
    "head(preds, 20)"
   ]
  },
  {
   "cell_type": "code",
   "execution_count": 86,
   "metadata": {},
   "outputs": [],
   "source": [
    "votes <- rowMeans(preds == \"1\")\n",
    "y_hat_ensembles <- ifelse(votes > 0.5, \"1\", \"0\")"
   ]
  },
  {
   "cell_type": "code",
   "execution_count": 87,
   "metadata": {},
   "outputs": [
    {
     "name": "stdout",
     "output_type": "stream",
     "text": [
      " chr [1:418] \"0\" \"0\" \"0\" \"0\" \"1\" \"0\" \"1\" \"0\" \"1\" \"0\" \"0\" \"0\" \"1\" \"0\" \"1\" ...\n"
     ]
    }
   ],
   "source": [
    "str(y_hat_ensembles)"
   ]
  },
  {
   "cell_type": "code",
   "execution_count": 88,
   "metadata": {},
   "outputs": [],
   "source": [
    "pred_ensembles <- tibble(PassengerID = titanic_test$PassengerId,\n",
    "                  Survived = y_hat_ensembles)\n",
    "write_csv(pred_ensembles, \"./csv_files/pred_ensembles.csv\")"
   ]
  },
  {
   "cell_type": "markdown",
   "metadata": {},
   "source": [
    "ensembles scored 0.78947"
   ]
  }
 ],
 "metadata": {
  "kernelspec": {
   "display_name": "R",
   "language": "R",
   "name": "ir"
  },
  "language_info": {
   "codemirror_mode": "r",
   "file_extension": ".r",
   "mimetype": "text/x-r-source",
   "name": "R",
   "pygments_lexer": "r",
   "version": "3.6.1"
  }
 },
 "nbformat": 4,
 "nbformat_minor": 4
}
