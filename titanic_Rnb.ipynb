{
 "cells": [
  {
   "cell_type": "code",
   "execution_count": 1,
   "metadata": {},
   "outputs": [
    {
     "name": "stderr",
     "output_type": "stream",
     "text": [
      "Warning message:\n",
      "\"package 'tidyverse' was built under R version 3.6.3\"-- Attaching packages --------------------------------------- tidyverse 1.3.0 --\n",
      "v ggplot2 3.2.1     v purrr   0.3.3\n",
      "v tibble  2.1.3     v dplyr   0.8.3\n",
      "v tidyr   1.0.0     v stringr 1.4.0\n",
      "v readr   1.3.1     v forcats 0.4.0\n",
      "Warning message:\n",
      "\"package 'ggplot2' was built under R version 3.6.2\"Warning message:\n",
      "\"package 'tibble' was built under R version 3.6.2\"Warning message:\n",
      "\"package 'tidyr' was built under R version 3.6.2\"Warning message:\n",
      "\"package 'readr' was built under R version 3.6.2\"Warning message:\n",
      "\"package 'purrr' was built under R version 3.6.2\"Warning message:\n",
      "\"package 'dplyr' was built under R version 3.6.2\"Warning message:\n",
      "\"package 'stringr' was built under R version 3.6.2\"Warning message:\n",
      "\"package 'forcats' was built under R version 3.6.2\"-- Conflicts ------------------------------------------ tidyverse_conflicts() --\n",
      "x dplyr::filter() masks stats::filter()\n",
      "x dplyr::lag()    masks stats::lag()\n",
      "Warning message:\n",
      "\"package 'caret' was built under R version 3.6.3\"Loading required package: lattice\n",
      "\n",
      "Attaching package: 'caret'\n",
      "\n",
      "The following object is masked from 'package:purrr':\n",
      "\n",
      "    lift\n",
      "\n"
     ]
    }
   ],
   "source": [
    "library(tidyverse)\n",
    "library(caret)\n",
    "library(rpart)"
   ]
  },
  {
   "cell_type": "code",
   "execution_count": 2,
   "metadata": {},
   "outputs": [
    {
     "name": "stderr",
     "output_type": "stream",
     "text": [
      "Parsed with column specification:\n",
      "cols(\n",
      "  PassengerId = col_double(),\n",
      "  Survived = col_double(),\n",
      "  Pclass = col_double(),\n",
      "  Name = col_character(),\n",
      "  Sex = col_character(),\n",
      "  Age = col_double(),\n",
      "  SibSp = col_double(),\n",
      "  Parch = col_double(),\n",
      "  Ticket = col_character(),\n",
      "  Fare = col_double(),\n",
      "  Cabin = col_character(),\n",
      "  Embarked = col_character()\n",
      ")\n",
      "Parsed with column specification:\n",
      "cols(\n",
      "  PassengerId = col_double(),\n",
      "  Pclass = col_double(),\n",
      "  Name = col_character(),\n",
      "  Sex = col_character(),\n",
      "  Age = col_double(),\n",
      "  SibSp = col_double(),\n",
      "  Parch = col_double(),\n",
      "  Ticket = col_character(),\n",
      "  Fare = col_double(),\n",
      "  Cabin = col_character(),\n",
      "  Embarked = col_character()\n",
      ")\n"
     ]
    }
   ],
   "source": [
    "titanic_train <- read_csv(\"./data/train.csv\")\n",
    "titanic_test <- read_csv(\"./data/test.csv\")"
   ]
  },
  {
   "cell_type": "code",
   "execution_count": 3,
   "metadata": {},
   "outputs": [
    {
     "name": "stdout",
     "output_type": "stream",
     "text": [
      "Classes 'spec_tbl_df', 'tbl_df', 'tbl' and 'data.frame':\t891 obs. of  12 variables:\n",
      " $ PassengerId: num  1 2 3 4 5 6 7 8 9 10 ...\n",
      " $ Survived   : num  0 1 1 1 0 0 0 0 1 1 ...\n",
      " $ Pclass     : num  3 1 3 1 3 3 1 3 3 2 ...\n",
      " $ Name       : chr  \"Braund, Mr. Owen Harris\" \"Cumings, Mrs. John Bradley (Florence Briggs Thayer)\" \"Heikkinen, Miss. Laina\" \"Futrelle, Mrs. Jacques Heath (Lily May Peel)\" ...\n",
      " $ Sex        : chr  \"male\" \"female\" \"female\" \"female\" ...\n",
      " $ Age        : num  22 38 26 35 35 NA 54 2 27 14 ...\n",
      " $ SibSp      : num  1 1 0 1 0 0 0 3 0 1 ...\n",
      " $ Parch      : num  0 0 0 0 0 0 0 1 2 0 ...\n",
      " $ Ticket     : chr  \"A/5 21171\" \"PC 17599\" \"STON/O2. 3101282\" \"113803\" ...\n",
      " $ Fare       : num  7.25 71.28 7.92 53.1 8.05 ...\n",
      " $ Cabin      : chr  NA \"C85\" NA \"C123\" ...\n",
      " $ Embarked   : chr  \"S\" \"C\" \"S\" \"S\" ...\n",
      " - attr(*, \"spec\")=\n",
      "  .. cols(\n",
      "  ..   PassengerId = col_double(),\n",
      "  ..   Survived = col_double(),\n",
      "  ..   Pclass = col_double(),\n",
      "  ..   Name = col_character(),\n",
      "  ..   Sex = col_character(),\n",
      "  ..   Age = col_double(),\n",
      "  ..   SibSp = col_double(),\n",
      "  ..   Parch = col_double(),\n",
      "  ..   Ticket = col_character(),\n",
      "  ..   Fare = col_double(),\n",
      "  ..   Cabin = col_character(),\n",
      "  ..   Embarked = col_character()\n",
      "  .. )\n"
     ]
    }
   ],
   "source": [
    "str(titanic_train)"
   ]
  },
  {
   "cell_type": "code",
   "execution_count": 4,
   "metadata": {},
   "outputs": [
    {
     "name": "stdout",
     "output_type": "stream",
     "text": [
      "Classes 'spec_tbl_df', 'tbl_df', 'tbl' and 'data.frame':\t418 obs. of  11 variables:\n",
      " $ PassengerId: num  892 893 894 895 896 897 898 899 900 901 ...\n",
      " $ Pclass     : num  3 3 2 3 3 3 3 2 3 3 ...\n",
      " $ Name       : chr  \"Kelly, Mr. James\" \"Wilkes, Mrs. James (Ellen Needs)\" \"Myles, Mr. Thomas Francis\" \"Wirz, Mr. Albert\" ...\n",
      " $ Sex        : chr  \"male\" \"female\" \"male\" \"male\" ...\n",
      " $ Age        : num  34.5 47 62 27 22 14 30 26 18 21 ...\n",
      " $ SibSp      : num  0 1 0 0 1 0 0 1 0 2 ...\n",
      " $ Parch      : num  0 0 0 0 1 0 0 1 0 0 ...\n",
      " $ Ticket     : chr  \"330911\" \"363272\" \"240276\" \"315154\" ...\n",
      " $ Fare       : num  7.83 7 9.69 8.66 12.29 ...\n",
      " $ Cabin      : chr  NA NA NA NA ...\n",
      " $ Embarked   : chr  \"Q\" \"S\" \"Q\" \"S\" ...\n",
      " - attr(*, \"spec\")=\n",
      "  .. cols(\n",
      "  ..   PassengerId = col_double(),\n",
      "  ..   Pclass = col_double(),\n",
      "  ..   Name = col_character(),\n",
      "  ..   Sex = col_character(),\n",
      "  ..   Age = col_double(),\n",
      "  ..   SibSp = col_double(),\n",
      "  ..   Parch = col_double(),\n",
      "  ..   Ticket = col_character(),\n",
      "  ..   Fare = col_double(),\n",
      "  ..   Cabin = col_character(),\n",
      "  ..   Embarked = col_character()\n",
      "  .. )\n"
     ]
    }
   ],
   "source": [
    "str(titanic_test)"
   ]
  },
  {
   "cell_type": "markdown",
   "metadata": {},
   "source": [
    "### Check for any NAs"
   ]
  },
  {
   "cell_type": "code",
   "execution_count": 5,
   "metadata": {},
   "outputs": [
    {
     "data": {
      "text/html": [
       "<dl class=dl-horizontal>\n",
       "\t<dt>PassengerId</dt>\n",
       "\t\t<dd>FALSE</dd>\n",
       "\t<dt>Survived</dt>\n",
       "\t\t<dd>FALSE</dd>\n",
       "\t<dt>Pclass</dt>\n",
       "\t\t<dd>FALSE</dd>\n",
       "\t<dt>Name</dt>\n",
       "\t\t<dd>FALSE</dd>\n",
       "\t<dt>Sex</dt>\n",
       "\t\t<dd>FALSE</dd>\n",
       "\t<dt>Age</dt>\n",
       "\t\t<dd>TRUE</dd>\n",
       "\t<dt>SibSp</dt>\n",
       "\t\t<dd>FALSE</dd>\n",
       "\t<dt>Parch</dt>\n",
       "\t\t<dd>FALSE</dd>\n",
       "\t<dt>Ticket</dt>\n",
       "\t\t<dd>FALSE</dd>\n",
       "\t<dt>Fare</dt>\n",
       "\t\t<dd>FALSE</dd>\n",
       "\t<dt>Cabin</dt>\n",
       "\t\t<dd>TRUE</dd>\n",
       "\t<dt>Embarked</dt>\n",
       "\t\t<dd>TRUE</dd>\n",
       "</dl>\n"
      ],
      "text/latex": [
       "\\begin{description*}\n",
       "\\item[PassengerId] FALSE\n",
       "\\item[Survived] FALSE\n",
       "\\item[Pclass] FALSE\n",
       "\\item[Name] FALSE\n",
       "\\item[Sex] FALSE\n",
       "\\item[Age] TRUE\n",
       "\\item[SibSp] FALSE\n",
       "\\item[Parch] FALSE\n",
       "\\item[Ticket] FALSE\n",
       "\\item[Fare] FALSE\n",
       "\\item[Cabin] TRUE\n",
       "\\item[Embarked] TRUE\n",
       "\\end{description*}\n"
      ],
      "text/markdown": [
       "PassengerId\n",
       ":   FALSESurvived\n",
       ":   FALSEPclass\n",
       ":   FALSEName\n",
       ":   FALSESex\n",
       ":   FALSEAge\n",
       ":   TRUESibSp\n",
       ":   FALSEParch\n",
       ":   FALSETicket\n",
       ":   FALSEFare\n",
       ":   FALSECabin\n",
       ":   TRUEEmbarked\n",
       ":   TRUE\n",
       "\n"
      ],
      "text/plain": [
       "PassengerId    Survived      Pclass        Name         Sex         Age \n",
       "      FALSE       FALSE       FALSE       FALSE       FALSE        TRUE \n",
       "      SibSp       Parch      Ticket        Fare       Cabin    Embarked \n",
       "      FALSE       FALSE       FALSE       FALSE        TRUE        TRUE "
      ]
     },
     "metadata": {},
     "output_type": "display_data"
    }
   ],
   "source": [
    "#which of the columns have NA\n",
    "na_col_train <- apply(titanic_train, 2, function(x){\n",
    "            any(is.na(x))\n",
    "})\n",
    "na_col_train"
   ]
  },
  {
   "cell_type": "code",
   "execution_count": 6,
   "metadata": {},
   "outputs": [],
   "source": [
    "#indices of NA entities\n",
    "na_matrix_train <- apply(titanic_train, 2, function(x){\n",
    "            is.na(x)\n",
    "})\n",
    "na_tib_train <- na_matrix_train %>% as_tibble()\n",
    "na_Age_ind_train <- which(na_tib_train$Age == TRUE)\n",
    "na_Cabin_ind_train <- which(na_tib_train$Cabin == TRUE)\n",
    "na_Embarked_ind_train <- which (na_tib_train$Embarked == TRUE)"
   ]
  },
  {
   "cell_type": "code",
   "execution_count": 7,
   "metadata": {},
   "outputs": [
    {
     "data": {
      "text/html": [
       "177"
      ],
      "text/latex": [
       "177"
      ],
      "text/markdown": [
       "177"
      ],
      "text/plain": [
       "[1] 177"
      ]
     },
     "metadata": {},
     "output_type": "display_data"
    }
   ],
   "source": [
    "length(na_Age_ind_train)"
   ]
  },
  {
   "cell_type": "code",
   "execution_count": 8,
   "metadata": {},
   "outputs": [
    {
     "data": {
      "text/html": [
       "687"
      ],
      "text/latex": [
       "687"
      ],
      "text/markdown": [
       "687"
      ],
      "text/plain": [
       "[1] 687"
      ]
     },
     "metadata": {},
     "output_type": "display_data"
    }
   ],
   "source": [
    "length(na_Cabin_ind_train)"
   ]
  },
  {
   "cell_type": "code",
   "execution_count": 9,
   "metadata": {},
   "outputs": [
    {
     "data": {
      "text/html": [
       "2"
      ],
      "text/latex": [
       "2"
      ],
      "text/markdown": [
       "2"
      ],
      "text/plain": [
       "[1] 2"
      ]
     },
     "metadata": {},
     "output_type": "display_data"
    }
   ],
   "source": [
    "length(na_Embarked_ind_train)"
   ]
  },
  {
   "cell_type": "code",
   "execution_count": 10,
   "metadata": {},
   "outputs": [
    {
     "data": {
      "text/html": [
       "<dl class=dl-horizontal>\n",
       "\t<dt>PassengerId</dt>\n",
       "\t\t<dd>FALSE</dd>\n",
       "\t<dt>Pclass</dt>\n",
       "\t\t<dd>FALSE</dd>\n",
       "\t<dt>Name</dt>\n",
       "\t\t<dd>FALSE</dd>\n",
       "\t<dt>Sex</dt>\n",
       "\t\t<dd>FALSE</dd>\n",
       "\t<dt>Age</dt>\n",
       "\t\t<dd>TRUE</dd>\n",
       "\t<dt>SibSp</dt>\n",
       "\t\t<dd>FALSE</dd>\n",
       "\t<dt>Parch</dt>\n",
       "\t\t<dd>FALSE</dd>\n",
       "\t<dt>Ticket</dt>\n",
       "\t\t<dd>FALSE</dd>\n",
       "\t<dt>Fare</dt>\n",
       "\t\t<dd>TRUE</dd>\n",
       "\t<dt>Cabin</dt>\n",
       "\t\t<dd>TRUE</dd>\n",
       "\t<dt>Embarked</dt>\n",
       "\t\t<dd>FALSE</dd>\n",
       "</dl>\n"
      ],
      "text/latex": [
       "\\begin{description*}\n",
       "\\item[PassengerId] FALSE\n",
       "\\item[Pclass] FALSE\n",
       "\\item[Name] FALSE\n",
       "\\item[Sex] FALSE\n",
       "\\item[Age] TRUE\n",
       "\\item[SibSp] FALSE\n",
       "\\item[Parch] FALSE\n",
       "\\item[Ticket] FALSE\n",
       "\\item[Fare] TRUE\n",
       "\\item[Cabin] TRUE\n",
       "\\item[Embarked] FALSE\n",
       "\\end{description*}\n"
      ],
      "text/markdown": [
       "PassengerId\n",
       ":   FALSEPclass\n",
       ":   FALSEName\n",
       ":   FALSESex\n",
       ":   FALSEAge\n",
       ":   TRUESibSp\n",
       ":   FALSEParch\n",
       ":   FALSETicket\n",
       ":   FALSEFare\n",
       ":   TRUECabin\n",
       ":   TRUEEmbarked\n",
       ":   FALSE\n",
       "\n"
      ],
      "text/plain": [
       "PassengerId      Pclass        Name         Sex         Age       SibSp \n",
       "      FALSE       FALSE       FALSE       FALSE        TRUE       FALSE \n",
       "      Parch      Ticket        Fare       Cabin    Embarked \n",
       "      FALSE       FALSE        TRUE        TRUE       FALSE "
      ]
     },
     "metadata": {},
     "output_type": "display_data"
    }
   ],
   "source": [
    "#which of the columns have NA\n",
    "na_col_test <- apply(titanic_test, 2, function(x){\n",
    "            any(is.na(x))\n",
    "})\n",
    "na_col_test"
   ]
  },
  {
   "cell_type": "code",
   "execution_count": 11,
   "metadata": {},
   "outputs": [],
   "source": [
    "#indices of NA entities\n",
    "na_matrix_test <- apply(titanic_test, 2, function(x){\n",
    "            is.na(x)\n",
    "})\n",
    "na_tib_test <- na_matrix_test %>% as_tibble()\n",
    "na_Age_ind_test <- which(na_tib_test$Age == TRUE)\n",
    "na_Fare_ind_test <- which(na_tib_test$Fare == TRUE)\n",
    "na_Cabin_ind_test <- which(na_tib_test$Cabin == TRUE)"
   ]
  },
  {
   "cell_type": "code",
   "execution_count": 12,
   "metadata": {},
   "outputs": [
    {
     "data": {
      "text/html": [
       "86"
      ],
      "text/latex": [
       "86"
      ],
      "text/markdown": [
       "86"
      ],
      "text/plain": [
       "[1] 86"
      ]
     },
     "metadata": {},
     "output_type": "display_data"
    }
   ],
   "source": [
    "length(na_Age_ind_test)"
   ]
  },
  {
   "cell_type": "code",
   "execution_count": 13,
   "metadata": {},
   "outputs": [
    {
     "data": {
      "text/html": [
       "1"
      ],
      "text/latex": [
       "1"
      ],
      "text/markdown": [
       "1"
      ],
      "text/plain": [
       "[1] 1"
      ]
     },
     "metadata": {},
     "output_type": "display_data"
    }
   ],
   "source": [
    "length(na_Fare_ind_test)"
   ]
  },
  {
   "cell_type": "code",
   "execution_count": 14,
   "metadata": {},
   "outputs": [
    {
     "data": {
      "text/html": [
       "327"
      ],
      "text/latex": [
       "327"
      ],
      "text/markdown": [
       "327"
      ],
      "text/plain": [
       "[1] 327"
      ]
     },
     "metadata": {},
     "output_type": "display_data"
    }
   ],
   "source": [
    "length(na_Cabin_ind_test)"
   ]
  },
  {
   "cell_type": "markdown",
   "metadata": {},
   "source": [
    "### Handle missing values"
   ]
  },
  {
   "cell_type": "code",
   "execution_count": 15,
   "metadata": {},
   "outputs": [],
   "source": [
    "titanic_train$Age[na_Age_ind_train] <- titanic_train %>% filter(!is.na(Age)) %>%\n",
    "    pull(Age) %>% median()"
   ]
  },
  {
   "cell_type": "code",
   "execution_count": 16,
   "metadata": {},
   "outputs": [
    {
     "data": {
      "text/html": [
       "0"
      ],
      "text/latex": [
       "0"
      ],
      "text/markdown": [
       "0"
      ],
      "text/plain": [
       "[1] 0"
      ]
     },
     "metadata": {},
     "output_type": "display_data"
    }
   ],
   "source": [
    "sum(is.na(titanic_train$Age))"
   ]
  },
  {
   "cell_type": "code",
   "execution_count": 17,
   "metadata": {},
   "outputs": [
    {
     "data": {
      "text/html": [
       "<dl class=dl-horizontal>\n",
       "\t<dt>S</dt>\n",
       "\t\t<dd>644</dd>\n",
       "\t<dt>C</dt>\n",
       "\t\t<dd>168</dd>\n",
       "\t<dt>Q</dt>\n",
       "\t\t<dd>77</dd>\n",
       "\t<dt>NA's</dt>\n",
       "\t\t<dd>2</dd>\n",
       "</dl>\n"
      ],
      "text/latex": [
       "\\begin{description*}\n",
       "\\item[S] 644\n",
       "\\item[C] 168\n",
       "\\item[Q] 77\n",
       "\\item[NA's] 2\n",
       "\\end{description*}\n"
      ],
      "text/markdown": [
       "S\n",
       ":   644C\n",
       ":   168Q\n",
       ":   77NA's\n",
       ":   2\n",
       "\n"
      ],
      "text/plain": [
       "   S    C    Q NA's \n",
       " 644  168   77    2 "
      ]
     },
     "metadata": {},
     "output_type": "display_data"
    }
   ],
   "source": [
    "titanic_train %>% .$Embarked %>% as_factor() %>% summary()"
   ]
  },
  {
   "cell_type": "code",
   "execution_count": 18,
   "metadata": {},
   "outputs": [],
   "source": [
    "titanic_train$Embarked[na_Embarked_ind_train] <- \"S\" "
   ]
  },
  {
   "cell_type": "code",
   "execution_count": 19,
   "metadata": {},
   "outputs": [],
   "source": [
    "titanic_test$Age[na_Age_ind_test] <- titanic_test %>% filter(!is.na(Age)) %>%\n",
    "    pull(Age) %>% median()"
   ]
  },
  {
   "cell_type": "code",
   "execution_count": 20,
   "metadata": {},
   "outputs": [],
   "source": [
    "titanic_test$Fare[na_Fare_ind_test] <- titanic_test %>% filter(!is.na(Fare)) %>%\n",
    "    pull(Fare) %>% median()"
   ]
  },
  {
   "cell_type": "markdown",
   "metadata": {},
   "source": [
    "### Check how many percentages of females and males survived"
   ]
  },
  {
   "cell_type": "code",
   "execution_count": 21,
   "metadata": {},
   "outputs": [
    {
     "data": {
      "text/html": [
       "<table>\n",
       "<thead><tr><th scope=col>Sex</th><th scope=col>mean(Survived)</th></tr></thead>\n",
       "<tbody>\n",
       "\t<tr><td>female   </td><td>0.7420382</td></tr>\n",
       "\t<tr><td>male     </td><td>0.1889081</td></tr>\n",
       "</tbody>\n",
       "</table>\n"
      ],
      "text/latex": [
       "\\begin{tabular}{r|ll}\n",
       " Sex & mean(Survived)\\\\\n",
       "\\hline\n",
       "\t female    & 0.7420382\\\\\n",
       "\t male      & 0.1889081\\\\\n",
       "\\end{tabular}\n"
      ],
      "text/markdown": [
       "\n",
       "| Sex | mean(Survived) |\n",
       "|---|---|\n",
       "| female    | 0.7420382 |\n",
       "| male      | 0.1889081 |\n",
       "\n"
      ],
      "text/plain": [
       "  Sex    mean(Survived)\n",
       "1 female 0.7420382     \n",
       "2 male   0.1889081     "
      ]
     },
     "metadata": {},
     "output_type": "display_data"
    }
   ],
   "source": [
    "titanic_train %>% group_by(Sex) %>% summarize(mean(Survived))"
   ]
  },
  {
   "cell_type": "markdown",
   "metadata": {},
   "source": [
    "### Gender model"
   ]
  },
  {
   "cell_type": "code",
   "execution_count": 22,
   "metadata": {},
   "outputs": [],
   "source": [
    "y_hat_gender <- ifelse(titanic_test$Sex == \"female\", 1, 0)\n",
    "pred_gender <- tibble(PassengerId = titanic_test$PassengerId,\n",
    "                     Survived = y_hat_gender)\n",
    "write_csv(pred_gender, \"./csv_files/pred_gender.csv\")"
   ]
  },
  {
   "cell_type": "markdown",
   "metadata": {},
   "source": [
    "Gender model would score 0.76555"
   ]
  },
  {
   "cell_type": "markdown",
   "metadata": {},
   "source": [
    "### Factorize train and test sets"
   ]
  },
  {
   "cell_type": "code",
   "execution_count": 23,
   "metadata": {},
   "outputs": [],
   "source": [
    "titanic_train_factorized <- titanic_train %>% mutate(Survived = factor(Survived),\n",
    "                                               Pclass = factor(Pclass),\n",
    "                                               Sex = factor(Sex),\n",
    "                                               Embarked = factor(Embarked)) %>%\n",
    "                            select(Survived, Sex, Pclass, Age, SibSp, Parch, Fare, Embarked)"
   ]
  },
  {
   "cell_type": "code",
   "execution_count": 24,
   "metadata": {},
   "outputs": [],
   "source": [
    "titanic_test_factorized <- titanic_test %>% mutate(Pclass = factor(Pclass),\n",
    "                                               Sex = factor(Sex),\n",
    "                                               Embarked = factor(Embarked)) %>%\n",
    "                            select(Sex, Pclass, Age, SibSp, Parch, Fare, Embarked)"
   ]
  },
  {
   "cell_type": "markdown",
   "metadata": {},
   "source": [
    "### Feature engineering and transformation"
   ]
  },
  {
   "cell_type": "code",
   "execution_count": 25,
   "metadata": {},
   "outputs": [],
   "source": [
    "# adding a new feature that is family size\n",
    "titanic_train_factorized <- titanic_train_factorized %>% mutate(FamilySize = SibSp + Parch)\n",
    "titanic_test_factorized <- titanic_test_factorized %>% mutate(FamilySize = SibSp + Parch)"
   ]
  },
  {
   "cell_type": "code",
   "execution_count": 26,
   "metadata": {},
   "outputs": [],
   "source": [
    "normalize <- function(x){\n",
    "    (x - min(x)) / (max(x) - min(x))\n",
    "}"
   ]
  },
  {
   "cell_type": "code",
   "execution_count": 27,
   "metadata": {},
   "outputs": [],
   "source": [
    "titanic_train_factorized <- titanic_train_factorized %>% mutate(Age = normalize(Age), Fare = normalize(Fare),\n",
    "                                                               SibSp = normalize(SibSp), Parch = normalize(Parch),\n",
    "                                                               FamilySize = normalize(FamilySize))\n",
    "titanic_test_factorized <- titanic_test_factorized %>% mutate(Age = normalize(Age), Fare = normalize(Fare),\n",
    "                                                               SibSp = normalize(SibSp), Parch = normalize(Parch),\n",
    "                                                               FamilySize = normalize(FamilySize))"
   ]
  },
  {
   "cell_type": "markdown",
   "metadata": {},
   "source": [
    "### Neural Networks with nnet (single hidden layer)"
   ]
  },
  {
   "cell_type": "code",
   "execution_count": null,
   "metadata": {},
   "outputs": [],
   "source": [
    "fit_nnet <- train(Survived ~ ., method = \"nnet\", data = titanic_train_factorized,\n",
    "                 tuneGrid = expand.grid(size = seq(from = 1, to = 10, by = 1),\n",
    "                        decay = seq(from = 0.1, to = 0.7, by = 0.1)),\n",
    "                 trControl = trainControl(method=\"repeatedcv\", number=10, repeats = 3))"
   ]
  },
  {
   "cell_type": "code",
   "execution_count": 29,
   "metadata": {},
   "outputs": [
    {
     "data": {
      "text/plain": [
       "Neural Network \n",
       "\n",
       "891 samples\n",
       "  8 predictor\n",
       "  2 classes: '0', '1' \n",
       "\n",
       "No pre-processing\n",
       "Resampling: Cross-Validated (10 fold, repeated 3 times) \n",
       "Summary of sample sizes: 802, 802, 801, 802, 802, 802, ... \n",
       "Resampling results across tuning parameters:\n",
       "\n",
       "  size  decay  Accuracy   Kappa    \n",
       "   1    0.1    0.8039564  0.5654672\n",
       "   1    0.2    0.8039439  0.5655033\n",
       "   1    0.3    0.8069445  0.5719451\n",
       "   1    0.4    0.8061998  0.5695451\n",
       "   1    0.5    0.8065911  0.5698286\n",
       "   1    0.6    0.8069530  0.5704773\n",
       "   1    0.7    0.8069573  0.5699248\n",
       "   2    0.1    0.8084639  0.5773791\n",
       "   2    0.2    0.8088048  0.5781577\n",
       "   2    0.3    0.8102987  0.5807675\n",
       "   2    0.4    0.8084386  0.5760029\n",
       "   2    0.5    0.8050804  0.5684560\n",
       "   2    0.6    0.8065869  0.5713781\n",
       "   2    0.7    0.8069531  0.5720763\n",
       "   3    0.1    0.8107110  0.5804991\n",
       "   3    0.2    0.8054674  0.5692199\n",
       "   3    0.3    0.8076978  0.5754881\n",
       "   3    0.4    0.8091835  0.5786954\n",
       "   3    0.5    0.8073234  0.5738383\n",
       "   3    0.6    0.8065869  0.5717261\n",
       "   3    0.7    0.8054549  0.5693570\n",
       "   4    0.1    0.8163040  0.5935638\n",
       "   4    0.2    0.8058504  0.5702080\n",
       "   4    0.3    0.8088172  0.5779560\n",
       "   4    0.4    0.8091835  0.5785976\n",
       "   4    0.5    0.8069489  0.5730542\n",
       "   4    0.6    0.8062166  0.5713172\n",
       "   4    0.7    0.8065827  0.5725910\n",
       "   5    0.1    0.8148142  0.5901796\n",
       "   5    0.2    0.8065785  0.5711973\n",
       "   5    0.3    0.8091919  0.5785522\n",
       "   5    0.4    0.8080640  0.5764942\n",
       "   5    0.5    0.8054549  0.5700001\n",
       "   5    0.6    0.8058420  0.5706462\n",
       "   5    0.7    0.8047100  0.5683496\n",
       "   6    0.1    0.8129416  0.5866193\n",
       "   6    0.2    0.8054547  0.5687794\n",
       "   6    0.3    0.8080723  0.5769345\n",
       "   6    0.4    0.8095538  0.5794974\n",
       "   6    0.5    0.8065744  0.5726627\n",
       "   6    0.6    0.8054675  0.5702930\n",
       "   6    0.7    0.8062040  0.5730437\n",
       "   7    0.1    0.8155633  0.5923628\n",
       "   7    0.2    0.8058168  0.5697690\n",
       "   7    0.3    0.8088172  0.5784757\n",
       "   7    0.4    0.8095623  0.5797223\n",
       "   7    0.5    0.8061956  0.5719079\n",
       "   7    0.6    0.8058336  0.5714354\n",
       "   7    0.7    0.8065785  0.5739917\n",
       "   8    0.1    0.8163082  0.5939707\n",
       "   8    0.2    0.8069363  0.5722939\n",
       "   8    0.3    0.8088298  0.5784284\n",
       "   8    0.4    0.8091792  0.5791948\n",
       "   8    0.5    0.8058168  0.5711673\n",
       "   8    0.6    0.8065827  0.5732799\n",
       "   8    0.7    0.8062082  0.5733379\n",
       "   9    0.1    0.8151762  0.5915552\n",
       "   9    0.2    0.8047058  0.5675353\n",
       "   9    0.3    0.8091960  0.5791612\n",
       "   9    0.4    0.8091792  0.5791948\n",
       "   9    0.5    0.8061913  0.5720951\n",
       "   9    0.6    0.8073276  0.5751206\n",
       "   9    0.7    0.8054633  0.5718022\n",
       "  10    0.1    0.8151888  0.5914283\n",
       "  10    0.2    0.8061997  0.5707034\n",
       "  10    0.3    0.8084468  0.5775023\n",
       "  10    0.4    0.8084344  0.5775855\n",
       "  10    0.5    0.8058168  0.5713603\n",
       "  10    0.6    0.8065785  0.5736674\n",
       "  10    0.7    0.8069616  0.5751201\n",
       "\n",
       "Accuracy was used to select the optimal model using the largest value.\n",
       "The final values used for the model were size = 8 and decay = 0.1."
      ]
     },
     "metadata": {},
     "output_type": "display_data"
    }
   ],
   "source": [
    "fit_nnet"
   ]
  },
  {
   "cell_type": "code",
   "execution_count": 31,
   "metadata": {},
   "outputs": [
    {
     "data": {
      "image/png": "[encoded data removed]",
      "text/plain": [
       "plot without title"
      ]
     },
     "metadata": {},
     "output_type": "display_data"
    }
   ],
   "source": [
    "plot(fit_nnet)"
   ]
  },
  {
   "cell_type": "code",
   "execution_count": 65,
   "metadata": {},
   "outputs": [],
   "source": [
    "y_hat_nnet <- predict(fit_nnet, titanic_test_factorized)\n",
    "pred_nnet <- tibble(PassengerId = titanic_test$PassengerId,\n",
    "                    Survived = as.character(y_hat_nnet))\n",
    "write_csv(pred_nnet, \"./csv_files/pred_nnet.csv\")"
   ]
  },
  {
   "cell_type": "markdown",
   "metadata": {},
   "source": [
    "nnet scored 0.76076"
   ]
  },
  {
   "cell_type": "markdown",
   "metadata": {},
   "source": [
    "### knn"
   ]
  },
  {
   "cell_type": "code",
   "execution_count": 33,
   "metadata": {},
   "outputs": [],
   "source": [
    "fit_knn <- train(Survived ~ ., method = \"knn\", data = titanic_train_factorized,\n",
    "                tuneGrid = data.frame(k = seq(3, 33, 2)),\n",
    "                trControl = trainControl(method=\"repeatedcv\", number=10, repeats = 5))"
   ]
  },
  {
   "cell_type": "code",
   "execution_count": 34,
   "metadata": {},
   "outputs": [
    {
     "data": {
      "text/plain": [
       "k-Nearest Neighbors \n",
       "\n",
       "891 samples\n",
       "  8 predictor\n",
       "  2 classes: '0', '1' \n",
       "\n",
       "No pre-processing\n",
       "Resampling: Cross-Validated (10 fold, repeated 5 times) \n",
       "Summary of sample sizes: 802, 802, 801, 802, 803, 802, ... \n",
       "Resampling results across tuning parameters:\n",
       "\n",
       "  k   Accuracy   Kappa    \n",
       "   3  0.8013192  0.5743939\n",
       "   5  0.8029023  0.5761608\n",
       "   7  0.8022157  0.5703644\n",
       "   9  0.7990870  0.5598311\n",
       "  11  0.8004556  0.5621124\n",
       "  13  0.7970719  0.5509426\n",
       "  15  0.8009024  0.5578584\n",
       "  17  0.8020185  0.5597793\n",
       "  19  0.8058162  0.5662732\n",
       "  21  0.8064880  0.5663234\n",
       "  23  0.8085053  0.5704448\n",
       "  25  0.8102880  0.5736105\n",
       "  27  0.8098488  0.5715292\n",
       "  29  0.8075965  0.5656689\n",
       "  31  0.8037886  0.5553550\n",
       "  33  0.8024527  0.5520559\n",
       "\n",
       "Accuracy was used to select the optimal model using the largest value.\n",
       "The final value used for the model was k = 25."
      ]
     },
     "metadata": {},
     "output_type": "display_data"
    }
   ],
   "source": [
    "fit_knn"
   ]
  },
  {
   "cell_type": "code",
   "execution_count": 35,
   "metadata": {},
   "outputs": [
    {
     "data": {
      "image/png": "[encoded data removed]",
      "text/plain": [
       "plot without title"
      ]
     },
     "metadata": {},
     "output_type": "display_data"
    }
   ],
   "source": [
    "plot(fit_knn)"
   ]
  },
  {
   "cell_type": "code",
   "execution_count": 66,
   "metadata": {},
   "outputs": [],
   "source": [
    "y_hat_knn <- predict(fit_knn, titanic_test_factorized)\n",
    "pred_knn <- tibble(PassengerId = titanic_test$PassengerId,\n",
    "                    Survived = as.character(y_hat_knn))\n",
    "write_csv(pred_knn, \"./csv_files/pred_knn.csv\")"
   ]
  },
  {
   "cell_type": "markdown",
   "metadata": {},
   "source": [
    "### Logistic regression with glm"
   ]
  },
  {
   "cell_type": "code",
   "execution_count": 37,
   "metadata": {},
   "outputs": [],
   "source": [
    "fit_logit <- train(Survived ~ Sex + Fare + Pclass + FamilySize + Age, method = \"glm\", \n",
    "                data = titanic_train_factorized, family = \"binomial\")\n",
    "                #trControl = trainControl(method=\"repeatedcv\", number=8, repeats = 5))"
   ]
  },
  {
   "cell_type": "code",
   "execution_count": 38,
   "metadata": {},
   "outputs": [
    {
     "data": {
      "text/plain": [
       "Generalized Linear Model \n",
       "\n",
       "891 samples\n",
       "  5 predictor\n",
       "  2 classes: '0', '1' \n",
       "\n",
       "No pre-processing\n",
       "Resampling: Bootstrapped (25 reps) \n",
       "Summary of sample sizes: 891, 891, 891, 891, 891, 891, ... \n",
       "Resampling results:\n",
       "\n",
       "  Accuracy   Kappa    \n",
       "  0.7989578  0.5703138\n"
      ]
     },
     "metadata": {},
     "output_type": "display_data"
    }
   ],
   "source": [
    "fit_logit"
   ]
  },
  {
   "cell_type": "code",
   "execution_count": 68,
   "metadata": {},
   "outputs": [],
   "source": [
    "y_hat_logit <- predict(fit_logit, titanic_test_factorized)\n",
    "pred_logit <- tibble(PassengerId = titanic_test$PassengerId,\n",
    "                    Survived = as.character(y_hat_logit))\n",
    "write_csv(pred_logit, \"./csv_files/pred_logit.csv\")"
   ]
  },
  {
   "cell_type": "markdown",
   "metadata": {},
   "source": [
    "logit submission scored 0.75598"
   ]
  },
  {
   "cell_type": "markdown",
   "metadata": {},
   "source": [
    "### Decision Tree with rpart"
   ]
  },
  {
   "cell_type": "code",
   "execution_count": 40,
   "metadata": {},
   "outputs": [],
   "source": [
    "fit_rpart <- train(Survived ~ ., method = \"rpart\", tuneGrid = data.frame(cp = seq(0, 0.02, 0.001)),\n",
    "                data = titanic_train_factorized,\n",
    "                trControl = trainControl(method=\"repeatedcv\", number=8, repeats = 5))"
   ]
  },
  {
   "cell_type": "code",
   "execution_count": 41,
   "metadata": {},
   "outputs": [
    {
     "data": {
      "text/html": [
       "<table>\n",
       "<thead><tr><th></th><th scope=col>cp</th></tr></thead>\n",
       "<tbody>\n",
       "\t<tr><th scope=row>3</th><td>0.002</td></tr>\n",
       "</tbody>\n",
       "</table>\n"
      ],
      "text/latex": [
       "\\begin{tabular}{r|l}\n",
       "  & cp\\\\\n",
       "\\hline\n",
       "\t3 & 0.002\\\\\n",
       "\\end{tabular}\n"
      ],
      "text/markdown": [
       "\n",
       "| <!--/--> | cp |\n",
       "|---|---|\n",
       "| 3 | 0.002 |\n",
       "\n"
      ],
      "text/plain": [
       "  cp   \n",
       "3 0.002"
      ]
     },
     "metadata": {},
     "output_type": "display_data"
    }
   ],
   "source": [
    "fit_rpart$bestTune"
   ]
  },
  {
   "cell_type": "code",
   "execution_count": 42,
   "metadata": {},
   "outputs": [
    {
     "data": {
      "text/plain": [
       "CART \n",
       "\n",
       "891 samples\n",
       "  8 predictor\n",
       "  2 classes: '0', '1' \n",
       "\n",
       "No pre-processing\n",
       "Resampling: Cross-Validated (8 fold, repeated 5 times) \n",
       "Summary of sample sizes: 780, 779, 779, 781, 779, 780, ... \n",
       "Resampling results across tuning parameters:\n",
       "\n",
       "  cp     Accuracy   Kappa    \n",
       "  0.000  0.8226986  0.6200541\n",
       "  0.001  0.8238187  0.6222631\n",
       "  0.002  0.8247056  0.6231187\n",
       "  0.003  0.8231370  0.6189674\n",
       "  0.004  0.8206696  0.6111819\n",
       "  0.005  0.8168567  0.6016958\n",
       "  0.006  0.8168648  0.6003781\n",
       "  0.007  0.8125915  0.5904131\n",
       "  0.008  0.8125915  0.5903251\n",
       "  0.009  0.8139409  0.5932064\n",
       "  0.010  0.8123561  0.5895487\n",
       "  0.011  0.8107956  0.5863883\n",
       "  0.012  0.8103452  0.5861470\n",
       "  0.013  0.8103452  0.5861470\n",
       "  0.014  0.8096776  0.5853399\n",
       "  0.015  0.8096776  0.5853399\n",
       "  0.016  0.8081050  0.5815055\n",
       "  0.017  0.8065224  0.5777747\n",
       "  0.018  0.8065224  0.5777747\n",
       "  0.019  0.8069769  0.5788455\n",
       "  0.020  0.8076526  0.5811750\n",
       "\n",
       "Accuracy was used to select the optimal model using the largest value.\n",
       "The final value used for the model was cp = 0.002."
      ]
     },
     "metadata": {},
     "output_type": "display_data"
    }
   ],
   "source": [
    "fit_rpart"
   ]
  },
  {
   "cell_type": "code",
   "execution_count": 43,
   "metadata": {},
   "outputs": [
    {
     "data": {
      "image/png": "[encoded data removed]",
      "text/plain": [
       "plot without title"
      ]
     },
     "metadata": {},
     "output_type": "display_data"
    }
   ],
   "source": [
    "plot(fit_rpart)"
   ]
  },
  {
   "cell_type": "code",
   "execution_count": 67,
   "metadata": {},
   "outputs": [],
   "source": [
    "y_hat_rpart <- predict(fit_rpart, titanic_test_factorized)\n",
    "pred_rpart <- tibble(PassengerId = titanic_test$PassengerId,\n",
    "                    Survived = as.character(y_hat_rpart))\n",
    "write_csv(pred_rpart, \"./csv_files/pred_rpart.csv\")"
   ]
  },
  {
   "cell_type": "code",
   "execution_count": 45,
   "metadata": {},
   "outputs": [
    {
     "data": {
      "text/plain": [
       "rpart variable importance\n",
       "\n",
       "           Overall\n",
       "Sexmale    100.000\n",
       "Fare        88.741\n",
       "Pclass3     73.369\n",
       "FamilySize  50.458\n",
       "Age         34.500\n",
       "SibSp       22.385\n",
       "Pclass2     10.027\n",
       "EmbarkedS    7.571\n",
       "Parch        5.154\n",
       "EmbarkedQ    0.000"
      ]
     },
     "metadata": {},
     "output_type": "display_data"
    }
   ],
   "source": [
    "varImp(fit_rpart)"
   ]
  },
  {
   "cell_type": "code",
   "execution_count": 46,
   "metadata": {},
   "outputs": [
    {
     "data": {
      "text/html": [
       "418"
      ],
      "text/latex": [
       "418"
      ],
      "text/markdown": [
       "418"
      ],
      "text/plain": [
       "[1] 418"
      ]
     },
     "metadata": {},
     "output_type": "display_data"
    }
   ],
   "source": [
    "nrow(pred_rpart)"
   ]
  },
  {
   "cell_type": "markdown",
   "metadata": {},
   "source": [
    "rpart submission scored 0.77511"
   ]
  },
  {
   "cell_type": "markdown",
   "metadata": {},
   "source": [
    "### Random Forest"
   ]
  },
  {
   "cell_type": "code",
   "execution_count": 76,
   "metadata": {},
   "outputs": [
    {
     "data": {
      "text/html": [
       "<table>\n",
       "<thead><tr><th></th><th scope=col>mtry</th></tr></thead>\n",
       "<tbody>\n",
       "\t<tr><th scope=row>2</th><td>3</td></tr>\n",
       "</tbody>\n",
       "</table>\n"
      ],
      "text/latex": [
       "\\begin{tabular}{r|l}\n",
       "  & mtry\\\\\n",
       "\\hline\n",
       "\t2 & 3\\\\\n",
       "\\end{tabular}\n"
      ],
      "text/markdown": [
       "\n",
       "| <!--/--> | mtry |\n",
       "|---|---|\n",
       "| 2 | 3 |\n",
       "\n"
      ],
      "text/plain": [
       "  mtry\n",
       "2 3   "
      ]
     },
     "metadata": {},
     "output_type": "display_data"
    }
   ],
   "source": [
    "fit_rf <- train(Survived ~ Sex + Pclass + Age + Fare + FamilySize, method = \"rf\", data = titanic_train_factorized,\n",
    "               ntree = 1000, tuneGrid = data.frame(mtry = seq(2, 5, 1)),\n",
    "               trControl = trainControl(method=\"repeatedcv\", number=8, repeats = 5))\n",
    "fit_rf$bestTune"
   ]
  },
  {
   "cell_type": "code",
   "execution_count": 77,
   "metadata": {},
   "outputs": [
    {
     "data": {
      "text/plain": [
       "Random Forest \n",
       "\n",
       "891 samples\n",
       "  5 predictor\n",
       "  2 classes: '0', '1' \n",
       "\n",
       "No pre-processing\n",
       "Resampling: Cross-Validated (8 fold, repeated 5 times) \n",
       "Summary of sample sizes: 779, 780, 780, 779, 780, 779, ... \n",
       "Resampling results across tuning parameters:\n",
       "\n",
       "  mtry  Accuracy   Kappa    \n",
       "  2     0.8282813  0.6249239\n",
       "  3     0.8327597  0.6386596\n",
       "  4     0.8262381  0.6273996\n",
       "  5     0.8228739  0.6211299\n",
       "\n",
       "Accuracy was used to select the optimal model using the largest value.\n",
       "The final value used for the model was mtry = 3."
      ]
     },
     "metadata": {},
     "output_type": "display_data"
    }
   ],
   "source": [
    "fit_rf"
   ]
  },
  {
   "cell_type": "code",
   "execution_count": 78,
   "metadata": {},
   "outputs": [
    {
     "data": {
      "image/png": "[encoded data removed]",
      "text/plain": [
       "plot without title"
      ]
     },
     "metadata": {},
     "output_type": "display_data"
    }
   ],
   "source": [
    "plot(fit_rf)"
   ]
  },
  {
   "cell_type": "code",
   "execution_count": 79,
   "metadata": {},
   "outputs": [],
   "source": [
    "y_hat_rf <- predict(fit_rf, titanic_test_factorized)\n",
    "pred_rf <- tibble(PassengerId = titanic_test$PassengerId,\n",
    "                 Survived = as.character(y_hat_rf))\n",
    "write_csv(pred_rf, \"./csv_files/pred_rf.csv\")"
   ]
  },
  {
   "cell_type": "code",
   "execution_count": 80,
   "metadata": {},
   "outputs": [
    {
     "data": {
      "text/plain": [
       "rf variable importance\n",
       "\n",
       "           Overall\n",
       "Sexmale     100.00\n",
       "Fare         75.68\n",
       "Age          65.63\n",
       "Pclass3      22.45\n",
       "FamilySize   19.96\n",
       "Pclass2       0.00"
      ]
     },
     "metadata": {},
     "output_type": "display_data"
    }
   ],
   "source": [
    "varImp(fit_rf)"
   ]
  },
  {
   "cell_type": "markdown",
   "metadata": {},
   "source": [
    "rf submission scored 0.78468"
   ]
  },
  {
   "cell_type": "markdown",
   "metadata": {},
   "source": [
    "### SVM with linear kernel"
   ]
  },
  {
   "cell_type": "code",
   "execution_count": 52,
   "metadata": {},
   "outputs": [],
   "source": [
    "fit_svm <- train(Survived ~ ., method = \"svmLinear\", data = titanic_train_factorized,\n",
    "                 preProcess = c(\"center\",\"scale\"),\n",
    "                 tuneGrid = expand.grid(C = seq(0.01, 2, length = 10)),\n",
    "                 trControl = trainControl(method=\"repeatedcv\", number=8, repeats = 5))"
   ]
  },
  {
   "cell_type": "code",
   "execution_count": 53,
   "metadata": {},
   "outputs": [
    {
     "data": {
      "text/plain": [
       "Support Vector Machines with Linear Kernel \n",
       "\n",
       "891 samples\n",
       "  8 predictor\n",
       "  2 classes: '0', '1' \n",
       "\n",
       "Pre-processing: centered (10), scaled (10) \n",
       "Resampling: Cross-Validated (8 fold, repeated 5 times) \n",
       "Summary of sample sizes: 780, 779, 780, 780, 779, 779, ... \n",
       "Resampling results across tuning parameters:\n",
       "\n",
       "  C          Accuracy   Kappa    \n",
       "  0.0100000  0.7867630  0.5419456\n",
       "  0.2311111  0.7867610  0.5418379\n",
       "  0.4522222  0.7865358  0.5414005\n",
       "  0.6733333  0.7865358  0.5414005\n",
       "  0.8944444  0.7865358  0.5414005\n",
       "  1.1155556  0.7865358  0.5414005\n",
       "  1.3366667  0.7863106  0.5409677\n",
       "  1.5577778  0.7863106  0.5409677\n",
       "  1.7788889  0.7863106  0.5409677\n",
       "  2.0000000  0.7863106  0.5409677\n",
       "\n",
       "Accuracy was used to select the optimal model using the largest value.\n",
       "The final value used for the model was C = 0.01."
      ]
     },
     "metadata": {},
     "output_type": "display_data"
    }
   ],
   "source": [
    "fit_svm"
   ]
  },
  {
   "cell_type": "code",
   "execution_count": 89,
   "metadata": {},
   "outputs": [
    {
     "data": {
      "image/png": "[encoded data removed]",
      "text/plain": [
       "plot without title"
      ]
     },
     "metadata": {},
     "output_type": "display_data"
    }
   ],
   "source": [
    "plot(fit_svm)"
   ]
  },
  {
   "cell_type": "code",
   "execution_count": 54,
   "metadata": {},
   "outputs": [],
   "source": [
    "y_hat_svm <- predict(fit_svm, titanic_test_factorized)\n",
    "pred_svm <- tibble(PassengerID = titanic_test$PassengerId,\n",
    "                  Survived = as.character(y_hat_svm))\n",
    "write_csv(pred_svm, \"./csv_files/pred_svm.csv\")"
   ]
  },
  {
   "cell_type": "code",
   "execution_count": 55,
   "metadata": {},
   "outputs": [
    {
     "name": "stdout",
     "output_type": "stream",
     "text": [
      " Factor w/ 2 levels \"0\",\"1\": 1 2 1 1 2 1 2 1 2 1 ...\n"
     ]
    }
   ],
   "source": [
    "str(y_hat_svm)"
   ]
  },
  {
   "cell_type": "code",
   "execution_count": 56,
   "metadata": {},
   "outputs": [
    {
     "name": "stdout",
     "output_type": "stream",
     "text": [
      " chr [1:418] \"0\" \"1\" \"0\" \"0\" \"1\" \"0\" \"1\" \"0\" \"1\" \"0\" \"0\" \"0\" \"1\" \"0\" \"1\" ...\n"
     ]
    }
   ],
   "source": [
    "str(pred_svm$Survived)"
   ]
  },
  {
   "cell_type": "markdown",
   "metadata": {},
   "source": [
    "SVM scored 0.76555"
   ]
  },
  {
   "cell_type": "markdown",
   "metadata": {},
   "source": [
    "\n",
    "\n",
    "### Ensembles with select models"
   ]
  },
  {
   "cell_type": "code",
   "execution_count": 95,
   "metadata": {},
   "outputs": [],
   "source": [
    "models <- c(\"pred_rf\", \"pred_nnet\", \"pred_rpart\", \"pred_knn\", \"pred_svm\")\n",
    "# excluding worst-performing logit model and gender model"
   ]
  },
  {
   "cell_type": "code",
   "execution_count": 82,
   "metadata": {},
   "outputs": [
    {
     "data": {
      "text/html": [
       "418"
      ],
      "text/latex": [
       "418"
      ],
      "text/markdown": [
       "418"
      ],
      "text/plain": [
       "[1] 418"
      ]
     },
     "metadata": {},
     "output_type": "display_data"
    }
   ],
   "source": [
    "length(pred_rf$Survived)"
   ]
  },
  {
   "cell_type": "code",
   "execution_count": 96,
   "metadata": {},
   "outputs": [],
   "source": [
    "preds <- sapply(models, function(model){\n",
    "    x = paste0(model, \"$Survived\")\n",
    "    eval(parse(text = x))\n",
    "})"
   ]
  },
  {
   "cell_type": "code",
   "execution_count": 97,
   "metadata": {},
   "outputs": [
    {
     "data": {
      "text/html": [
       "<ol class=list-inline>\n",
       "\t<li>418</li>\n",
       "\t<li>5</li>\n",
       "</ol>\n"
      ],
      "text/latex": [
       "\\begin{enumerate*}\n",
       "\\item 418\n",
       "\\item 5\n",
       "\\end{enumerate*}\n"
      ],
      "text/markdown": [
       "1. 418\n",
       "2. 5\n",
       "\n",
       "\n"
      ],
      "text/plain": [
       "[1] 418   5"
      ]
     },
     "metadata": {},
     "output_type": "display_data"
    }
   ],
   "source": [
    "dim(preds)"
   ]
  },
  {
   "cell_type": "code",
   "execution_count": 98,
   "metadata": {},
   "outputs": [
    {
     "data": {
      "text/html": [
       "<table>\n",
       "<thead><tr><th scope=col>pred_rf</th><th scope=col>pred_nnet</th><th scope=col>pred_rpart</th><th scope=col>pred_knn</th><th scope=col>pred_svm</th></tr></thead>\n",
       "<tbody>\n",
       "\t<tr><td>0</td><td>0</td><td>0</td><td>0</td><td>0</td></tr>\n",
       "\t<tr><td>0</td><td>0</td><td>0</td><td>0</td><td>1</td></tr>\n",
       "\t<tr><td>0</td><td>0</td><td>0</td><td>0</td><td>0</td></tr>\n",
       "\t<tr><td>0</td><td>0</td><td>0</td><td>0</td><td>0</td></tr>\n",
       "\t<tr><td>1</td><td>0</td><td>1</td><td>0</td><td>1</td></tr>\n",
       "\t<tr><td>0</td><td>0</td><td>0</td><td>0</td><td>0</td></tr>\n",
       "\t<tr><td>0</td><td>1</td><td>1</td><td>1</td><td>1</td></tr>\n",
       "\t<tr><td>0</td><td>0</td><td>0</td><td>0</td><td>0</td></tr>\n",
       "\t<tr><td>1</td><td>1</td><td>1</td><td>1</td><td>1</td></tr>\n",
       "\t<tr><td>0</td><td>0</td><td>0</td><td>0</td><td>0</td></tr>\n",
       "\t<tr><td>0</td><td>0</td><td>0</td><td>0</td><td>0</td></tr>\n",
       "\t<tr><td>0</td><td>0</td><td>0</td><td>0</td><td>0</td></tr>\n",
       "\t<tr><td>1</td><td>1</td><td>1</td><td>1</td><td>1</td></tr>\n",
       "\t<tr><td>0</td><td>0</td><td>0</td><td>0</td><td>0</td></tr>\n",
       "\t<tr><td>1</td><td>1</td><td>1</td><td>1</td><td>1</td></tr>\n",
       "\t<tr><td>1</td><td>1</td><td>1</td><td>1</td><td>1</td></tr>\n",
       "\t<tr><td>0</td><td>0</td><td>0</td><td>0</td><td>0</td></tr>\n",
       "\t<tr><td>0</td><td>0</td><td>0</td><td>0</td><td>0</td></tr>\n",
       "\t<tr><td>0</td><td>0</td><td>1</td><td>0</td><td>1</td></tr>\n",
       "\t<tr><td>0</td><td>1</td><td>0</td><td>1</td><td>1</td></tr>\n",
       "</tbody>\n",
       "</table>\n"
      ],
      "text/latex": [
       "\\begin{tabular}{lllll}\n",
       " pred\\_rf & pred\\_nnet & pred\\_rpart & pred\\_knn & pred\\_svm\\\\\n",
       "\\hline\n",
       "\t 0 & 0 & 0 & 0 & 0\\\\\n",
       "\t 0 & 0 & 0 & 0 & 1\\\\\n",
       "\t 0 & 0 & 0 & 0 & 0\\\\\n",
       "\t 0 & 0 & 0 & 0 & 0\\\\\n",
       "\t 1 & 0 & 1 & 0 & 1\\\\\n",
       "\t 0 & 0 & 0 & 0 & 0\\\\\n",
       "\t 0 & 1 & 1 & 1 & 1\\\\\n",
       "\t 0 & 0 & 0 & 0 & 0\\\\\n",
       "\t 1 & 1 & 1 & 1 & 1\\\\\n",
       "\t 0 & 0 & 0 & 0 & 0\\\\\n",
       "\t 0 & 0 & 0 & 0 & 0\\\\\n",
       "\t 0 & 0 & 0 & 0 & 0\\\\\n",
       "\t 1 & 1 & 1 & 1 & 1\\\\\n",
       "\t 0 & 0 & 0 & 0 & 0\\\\\n",
       "\t 1 & 1 & 1 & 1 & 1\\\\\n",
       "\t 1 & 1 & 1 & 1 & 1\\\\\n",
       "\t 0 & 0 & 0 & 0 & 0\\\\\n",
       "\t 0 & 0 & 0 & 0 & 0\\\\\n",
       "\t 0 & 0 & 1 & 0 & 1\\\\\n",
       "\t 0 & 1 & 0 & 1 & 1\\\\\n",
       "\\end{tabular}\n"
      ],
      "text/markdown": [
       "\n",
       "| pred_rf | pred_nnet | pred_rpart | pred_knn | pred_svm |\n",
       "|---|---|---|---|---|\n",
       "| 0 | 0 | 0 | 0 | 0 |\n",
       "| 0 | 0 | 0 | 0 | 1 |\n",
       "| 0 | 0 | 0 | 0 | 0 |\n",
       "| 0 | 0 | 0 | 0 | 0 |\n",
       "| 1 | 0 | 1 | 0 | 1 |\n",
       "| 0 | 0 | 0 | 0 | 0 |\n",
       "| 0 | 1 | 1 | 1 | 1 |\n",
       "| 0 | 0 | 0 | 0 | 0 |\n",
       "| 1 | 1 | 1 | 1 | 1 |\n",
       "| 0 | 0 | 0 | 0 | 0 |\n",
       "| 0 | 0 | 0 | 0 | 0 |\n",
       "| 0 | 0 | 0 | 0 | 0 |\n",
       "| 1 | 1 | 1 | 1 | 1 |\n",
       "| 0 | 0 | 0 | 0 | 0 |\n",
       "| 1 | 1 | 1 | 1 | 1 |\n",
       "| 1 | 1 | 1 | 1 | 1 |\n",
       "| 0 | 0 | 0 | 0 | 0 |\n",
       "| 0 | 0 | 0 | 0 | 0 |\n",
       "| 0 | 0 | 1 | 0 | 1 |\n",
       "| 0 | 1 | 0 | 1 | 1 |\n",
       "\n"
      ],
      "text/plain": [
       "      pred_rf pred_nnet pred_rpart pred_knn pred_svm\n",
       " [1,] 0       0         0          0        0       \n",
       " [2,] 0       0         0          0        1       \n",
       " [3,] 0       0         0          0        0       \n",
       " [4,] 0       0         0          0        0       \n",
       " [5,] 1       0         1          0        1       \n",
       " [6,] 0       0         0          0        0       \n",
       " [7,] 0       1         1          1        1       \n",
       " [8,] 0       0         0          0        0       \n",
       " [9,] 1       1         1          1        1       \n",
       "[10,] 0       0         0          0        0       \n",
       "[11,] 0       0         0          0        0       \n",
       "[12,] 0       0         0          0        0       \n",
       "[13,] 1       1         1          1        1       \n",
       "[14,] 0       0         0          0        0       \n",
       "[15,] 1       1         1          1        1       \n",
       "[16,] 1       1         1          1        1       \n",
       "[17,] 0       0         0          0        0       \n",
       "[18,] 0       0         0          0        0       \n",
       "[19,] 0       0         1          0        1       \n",
       "[20,] 0       1         0          1        1       "
      ]
     },
     "metadata": {},
     "output_type": "display_data"
    }
   ],
   "source": [
    "head(preds, 20)"
   ]
  },
  {
   "cell_type": "code",
   "execution_count": 99,
   "metadata": {},
   "outputs": [],
   "source": [
    "votes <- rowMeans(preds == \"1\")\n",
    "y_hat_ensembles <- ifelse(votes > 0.5, \"1\", \"0\")"
   ]
  },
  {
   "cell_type": "code",
   "execution_count": 100,
   "metadata": {},
   "outputs": [
    {
     "name": "stdout",
     "output_type": "stream",
     "text": [
      " chr [1:418] \"0\" \"0\" \"0\" \"0\" \"1\" \"0\" \"1\" \"0\" \"1\" \"0\" \"0\" \"0\" \"1\" \"0\" \"1\" ...\n"
     ]
    }
   ],
   "source": [
    "str(y_hat_ensembles)"
   ]
  },
  {
   "cell_type": "code",
   "execution_count": 101,
   "metadata": {},
   "outputs": [],
   "source": [
    "pred_ensembles <- tibble(PassengerID = titanic_test$PassengerId,\n",
    "                  Survived = y_hat_ensembles)\n",
    "write_csv(pred_ensembles, \"./csv_files/pred_ensembles.csv\")"
   ]
  },
  {
   "cell_type": "markdown",
   "metadata": {},
   "source": [
    "ensembles scored 0.78947"
   ]
  }
 ],
 "metadata": {
  "kernelspec": {
   "display_name": "R",
   "language": "R",
   "name": "ir"
  },
  "language_info": {
   "codemirror_mode": "r",
   "file_extension": ".r",
   "mimetype": "text/x-r-source",
   "name": "R",
   "pygments_lexer": "r",
   "version": "3.6.1"
  }
 },
 "nbformat": 4,
 "nbformat_minor": 4
}
